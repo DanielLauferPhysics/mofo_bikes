{
 "cells": [
  {
   "cell_type": "markdown",
   "metadata": {},
   "source": [
    "# Preprocessed Citibike Data: Exploratory Data Analysis"
   ]
  },
  {
   "cell_type": "markdown",
   "metadata": {},
   "source": [
    "## Import libraries"
   ]
  },
  {
   "cell_type": "code",
   "execution_count": 1,
   "metadata": {},
   "outputs": [],
   "source": [
    "import numpy as np\n",
    "import pandas as pd\n",
    "import datetime as dt\n",
    "from pandas.api.types import CategoricalDtype\n",
    "import seaborn as sns\n",
    "import matplotlib.pyplot as plt\n",
    "import plotly.graph_objects as go"
   ]
  },
  {
   "cell_type": "markdown",
   "metadata": {},
   "source": [
    "## Import and load data"
   ]
  },
  {
   "cell_type": "markdown",
   "metadata": {},
   "source": [
    "Import preprocessed data:"
   ]
  },
  {
   "cell_type": "code",
   "execution_count": 2,
   "metadata": {},
   "outputs": [],
   "source": [
    "cb_raw = pd.read_csv('../../data/02_processed/concat_file_processed.csv', parse_dates=True)"
   ]
  },
  {
   "cell_type": "markdown",
   "metadata": {},
   "source": [
    "Drop unused index:"
   ]
  },
  {
   "cell_type": "code",
   "execution_count": 3,
   "metadata": {},
   "outputs": [],
   "source": [
    "cb_raw = cb_raw.drop('Unnamed: 0', axis=1)"
   ]
  },
  {
   "cell_type": "markdown",
   "metadata": {},
   "source": [
    "Make a copy: "
   ]
  },
  {
   "cell_type": "code",
   "execution_count": 4,
   "metadata": {},
   "outputs": [],
   "source": [
    "cb = cb_raw.copy()"
   ]
  },
  {
   "cell_type": "markdown",
   "metadata": {},
   "source": [
    "## Inspect data frame"
   ]
  },
  {
   "cell_type": "markdown",
   "metadata": {},
   "source": [
    "Get dimensions of data frame and datatypes of each feature:"
   ]
  },
  {
   "cell_type": "code",
   "execution_count": 5,
   "metadata": {},
   "outputs": [
    {
     "name": "stdout",
     "output_type": "stream",
     "text": [
      "<class 'pandas.core.frame.DataFrame'>\n",
      "RangeIndex: 4605356 entries, 0 to 4605355\n",
      "Data columns (total 15 columns):\n",
      "bikeid                   int64\n",
      "birthyear                float64\n",
      "endstationid             float64\n",
      "endstationlatitude       float64\n",
      "endstationlongitude      float64\n",
      "endstationname           object\n",
      "gender                   int64\n",
      "startstationid           float64\n",
      "startstationlatitude     float64\n",
      "startstationlongitude    float64\n",
      "startstationname         object\n",
      "starttime                object\n",
      "stoptime                 object\n",
      "tripduration             float64\n",
      "usertype                 object\n",
      "dtypes: float64(8), int64(2), object(5)\n",
      "memory usage: 527.0+ MB\n"
     ]
    }
   ],
   "source": [
    "cb.info()"
   ]
  },
  {
   "cell_type": "markdown",
   "metadata": {},
   "source": [
    "Randomly sample five observations:"
   ]
  },
  {
   "cell_type": "code",
   "execution_count": 6,
   "metadata": {},
   "outputs": [
    {
     "data": {
      "text/html": [
       "<div>\n",
       "<style scoped>\n",
       "    .dataframe tbody tr th:only-of-type {\n",
       "        vertical-align: middle;\n",
       "    }\n",
       "\n",
       "    .dataframe tbody tr th {\n",
       "        vertical-align: top;\n",
       "    }\n",
       "\n",
       "    .dataframe thead th {\n",
       "        text-align: right;\n",
       "    }\n",
       "</style>\n",
       "<table border=\"1\" class=\"dataframe\">\n",
       "  <thead>\n",
       "    <tr style=\"text-align: right;\">\n",
       "      <th></th>\n",
       "      <th>bikeid</th>\n",
       "      <th>birthyear</th>\n",
       "      <th>endstationid</th>\n",
       "      <th>endstationlatitude</th>\n",
       "      <th>endstationlongitude</th>\n",
       "      <th>endstationname</th>\n",
       "      <th>gender</th>\n",
       "      <th>startstationid</th>\n",
       "      <th>startstationlatitude</th>\n",
       "      <th>startstationlongitude</th>\n",
       "      <th>startstationname</th>\n",
       "      <th>starttime</th>\n",
       "      <th>stoptime</th>\n",
       "      <th>tripduration</th>\n",
       "      <th>usertype</th>\n",
       "    </tr>\n",
       "  </thead>\n",
       "  <tbody>\n",
       "    <tr>\n",
       "      <td>2062405</td>\n",
       "      <td>15719</td>\n",
       "      <td>1978.0</td>\n",
       "      <td>445.0</td>\n",
       "      <td>40.727408</td>\n",
       "      <td>-73.981420</td>\n",
       "      <td>E 10 St &amp; Avenue A</td>\n",
       "      <td>1</td>\n",
       "      <td>252.0</td>\n",
       "      <td>40.732264</td>\n",
       "      <td>-73.998522</td>\n",
       "      <td>MacDougal St &amp; Washington Sq</td>\n",
       "      <td>2016-04-22 03:38:10</td>\n",
       "      <td>2016-04-22 03:50:22</td>\n",
       "      <td>732.0</td>\n",
       "      <td>Subscriber</td>\n",
       "    </tr>\n",
       "    <tr>\n",
       "      <td>514438</td>\n",
       "      <td>17454</td>\n",
       "      <td>1993.0</td>\n",
       "      <td>459.0</td>\n",
       "      <td>40.746745</td>\n",
       "      <td>-74.007756</td>\n",
       "      <td>W 20 St &amp; 11 Ave</td>\n",
       "      <td>1</td>\n",
       "      <td>453.0</td>\n",
       "      <td>40.744751</td>\n",
       "      <td>-73.999154</td>\n",
       "      <td>W 22 St &amp; 8 Ave</td>\n",
       "      <td>2015-04-27 18:55:30</td>\n",
       "      <td>2015-04-27 19:00:10</td>\n",
       "      <td>279.0</td>\n",
       "      <td>Subscriber</td>\n",
       "    </tr>\n",
       "    <tr>\n",
       "      <td>1480836</td>\n",
       "      <td>17904</td>\n",
       "      <td>1979.0</td>\n",
       "      <td>3093.0</td>\n",
       "      <td>40.717452</td>\n",
       "      <td>-73.958509</td>\n",
       "      <td>N 6 St &amp; Bedford Ave</td>\n",
       "      <td>1</td>\n",
       "      <td>3107.0</td>\n",
       "      <td>40.723117</td>\n",
       "      <td>-73.952123</td>\n",
       "      <td>Bedford Ave &amp; Nassau Ave</td>\n",
       "      <td>2015-08-28 18:00:32</td>\n",
       "      <td>2015-08-28 18:05:01</td>\n",
       "      <td>269.0</td>\n",
       "      <td>Subscriber</td>\n",
       "    </tr>\n",
       "    <tr>\n",
       "      <td>74440</td>\n",
       "      <td>16119</td>\n",
       "      <td>1980.0</td>\n",
       "      <td>529.0</td>\n",
       "      <td>40.757570</td>\n",
       "      <td>-73.990985</td>\n",
       "      <td>W 42 St &amp; 8 Ave</td>\n",
       "      <td>1</td>\n",
       "      <td>2003.0</td>\n",
       "      <td>40.733812</td>\n",
       "      <td>-73.980544</td>\n",
       "      <td>1 Ave &amp; E 18 St</td>\n",
       "      <td>2017-09-25 16:20:41</td>\n",
       "      <td>2017-09-25 16:44:20</td>\n",
       "      <td>1418.0</td>\n",
       "      <td>Subscriber</td>\n",
       "    </tr>\n",
       "    <tr>\n",
       "      <td>49983</td>\n",
       "      <td>28871</td>\n",
       "      <td>1975.0</td>\n",
       "      <td>486.0</td>\n",
       "      <td>40.746201</td>\n",
       "      <td>-73.988557</td>\n",
       "      <td>Broadway &amp; W 29 St</td>\n",
       "      <td>1</td>\n",
       "      <td>251.0</td>\n",
       "      <td>40.723180</td>\n",
       "      <td>-73.994800</td>\n",
       "      <td>Mott St &amp; Prince St</td>\n",
       "      <td>2017-09-17 20:59:19</td>\n",
       "      <td>2017-09-17 21:11:03</td>\n",
       "      <td>704.0</td>\n",
       "      <td>Subscriber</td>\n",
       "    </tr>\n",
       "  </tbody>\n",
       "</table>\n",
       "</div>"
      ],
      "text/plain": [
       "         bikeid  birthyear  endstationid  endstationlatitude  \\\n",
       "2062405   15719     1978.0         445.0           40.727408   \n",
       "514438    17454     1993.0         459.0           40.746745   \n",
       "1480836   17904     1979.0        3093.0           40.717452   \n",
       "74440     16119     1980.0         529.0           40.757570   \n",
       "49983     28871     1975.0         486.0           40.746201   \n",
       "\n",
       "         endstationlongitude        endstationname  gender  startstationid  \\\n",
       "2062405           -73.981420    E 10 St & Avenue A       1           252.0   \n",
       "514438            -74.007756      W 20 St & 11 Ave       1           453.0   \n",
       "1480836           -73.958509  N 6 St & Bedford Ave       1          3107.0   \n",
       "74440             -73.990985       W 42 St & 8 Ave       1          2003.0   \n",
       "49983             -73.988557    Broadway & W 29 St       1           251.0   \n",
       "\n",
       "         startstationlatitude  startstationlongitude  \\\n",
       "2062405             40.732264             -73.998522   \n",
       "514438              40.744751             -73.999154   \n",
       "1480836             40.723117             -73.952123   \n",
       "74440               40.733812             -73.980544   \n",
       "49983               40.723180             -73.994800   \n",
       "\n",
       "                     startstationname            starttime  \\\n",
       "2062405  MacDougal St & Washington Sq  2016-04-22 03:38:10   \n",
       "514438                W 22 St & 8 Ave  2015-04-27 18:55:30   \n",
       "1480836      Bedford Ave & Nassau Ave  2015-08-28 18:00:32   \n",
       "74440                 1 Ave & E 18 St  2017-09-25 16:20:41   \n",
       "49983             Mott St & Prince St  2017-09-17 20:59:19   \n",
       "\n",
       "                    stoptime  tripduration    usertype  \n",
       "2062405  2016-04-22 03:50:22         732.0  Subscriber  \n",
       "514438   2015-04-27 19:00:10         279.0  Subscriber  \n",
       "1480836  2015-08-28 18:05:01         269.0  Subscriber  \n",
       "74440    2017-09-25 16:44:20        1418.0  Subscriber  \n",
       "49983    2017-09-17 21:11:03         704.0  Subscriber  "
      ]
     },
     "execution_count": 6,
     "metadata": {},
     "output_type": "execute_result"
    }
   ],
   "source": [
    "cb.sample(n=5)"
   ]
  },
  {
   "cell_type": "markdown",
   "metadata": {},
   "source": [
    "Check for missing values – there should be none:"
   ]
  },
  {
   "cell_type": "code",
   "execution_count": 7,
   "metadata": {},
   "outputs": [
    {
     "data": {
      "text/plain": [
       "bikeid                   0\n",
       "birthyear                0\n",
       "endstationid             0\n",
       "endstationlatitude       0\n",
       "endstationlongitude      0\n",
       "endstationname           0\n",
       "gender                   0\n",
       "startstationid           0\n",
       "startstationlatitude     0\n",
       "startstationlongitude    0\n",
       "startstationname         0\n",
       "starttime                0\n",
       "stoptime                 0\n",
       "tripduration             0\n",
       "usertype                 0\n",
       "dtype: int64"
      ]
     },
     "execution_count": 7,
     "metadata": {},
     "output_type": "execute_result"
    }
   ],
   "source": [
    "cb.isnull().sum()"
   ]
  },
  {
   "cell_type": "markdown",
   "metadata": {},
   "source": [
    "## Data preprocessing"
   ]
  },
  {
   "cell_type": "markdown",
   "metadata": {},
   "source": [
    "Show unique values per feature:"
   ]
  },
  {
   "cell_type": "code",
   "execution_count": 8,
   "metadata": {},
   "outputs": [
    {
     "data": {
      "text/html": [
       "<div>\n",
       "<style scoped>\n",
       "    .dataframe tbody tr th:only-of-type {\n",
       "        vertical-align: middle;\n",
       "    }\n",
       "\n",
       "    .dataframe tbody tr th {\n",
       "        vertical-align: top;\n",
       "    }\n",
       "\n",
       "    .dataframe thead th {\n",
       "        text-align: right;\n",
       "    }\n",
       "</style>\n",
       "<table border=\"1\" class=\"dataframe\">\n",
       "  <thead>\n",
       "    <tr style=\"text-align: right;\">\n",
       "      <th></th>\n",
       "      <th>Feature</th>\n",
       "      <th>Number of Unique Values</th>\n",
       "    </tr>\n",
       "  </thead>\n",
       "  <tbody>\n",
       "    <tr>\n",
       "      <td>6</td>\n",
       "      <td>gender</td>\n",
       "      <td>3</td>\n",
       "    </tr>\n",
       "    <tr>\n",
       "      <td>14</td>\n",
       "      <td>usertype</td>\n",
       "      <td>3</td>\n",
       "    </tr>\n",
       "    <tr>\n",
       "      <td>1</td>\n",
       "      <td>birthyear</td>\n",
       "      <td>85</td>\n",
       "    </tr>\n",
       "    <tr>\n",
       "      <td>7</td>\n",
       "      <td>startstationid</td>\n",
       "      <td>1058</td>\n",
       "    </tr>\n",
       "    <tr>\n",
       "      <td>2</td>\n",
       "      <td>endstationid</td>\n",
       "      <td>1073</td>\n",
       "    </tr>\n",
       "    <tr>\n",
       "      <td>10</td>\n",
       "      <td>startstationname</td>\n",
       "      <td>1089</td>\n",
       "    </tr>\n",
       "    <tr>\n",
       "      <td>5</td>\n",
       "      <td>endstationname</td>\n",
       "      <td>1107</td>\n",
       "    </tr>\n",
       "    <tr>\n",
       "      <td>9</td>\n",
       "      <td>startstationlongitude</td>\n",
       "      <td>1121</td>\n",
       "    </tr>\n",
       "    <tr>\n",
       "      <td>4</td>\n",
       "      <td>endstationlongitude</td>\n",
       "      <td>1140</td>\n",
       "    </tr>\n",
       "    <tr>\n",
       "      <td>8</td>\n",
       "      <td>startstationlatitude</td>\n",
       "      <td>1201</td>\n",
       "    </tr>\n",
       "    <tr>\n",
       "      <td>3</td>\n",
       "      <td>endstationlatitude</td>\n",
       "      <td>1221</td>\n",
       "    </tr>\n",
       "    <tr>\n",
       "      <td>13</td>\n",
       "      <td>tripduration</td>\n",
       "      <td>16944</td>\n",
       "    </tr>\n",
       "    <tr>\n",
       "      <td>0</td>\n",
       "      <td>bikeid</td>\n",
       "      <td>24478</td>\n",
       "    </tr>\n",
       "    <tr>\n",
       "      <td>11</td>\n",
       "      <td>starttime</td>\n",
       "      <td>4522202</td>\n",
       "    </tr>\n",
       "    <tr>\n",
       "      <td>12</td>\n",
       "      <td>stoptime</td>\n",
       "      <td>4522865</td>\n",
       "    </tr>\n",
       "  </tbody>\n",
       "</table>\n",
       "</div>"
      ],
      "text/plain": [
       "                  Feature  Number of Unique Values\n",
       "6                  gender                        3\n",
       "14               usertype                        3\n",
       "1               birthyear                       85\n",
       "7          startstationid                     1058\n",
       "2            endstationid                     1073\n",
       "10       startstationname                     1089\n",
       "5          endstationname                     1107\n",
       "9   startstationlongitude                     1121\n",
       "4     endstationlongitude                     1140\n",
       "8    startstationlatitude                     1201\n",
       "3      endstationlatitude                     1221\n",
       "13           tripduration                    16944\n",
       "0                  bikeid                    24478\n",
       "11              starttime                  4522202\n",
       "12               stoptime                  4522865"
      ]
     },
     "execution_count": 8,
     "metadata": {},
     "output_type": "execute_result"
    }
   ],
   "source": [
    "pd.DataFrame.from_records([(col, cb[col].nunique()) for col in cb.columns],\n",
    "                          columns=['Feature', 'Number of Unique Values']).sort_values(by=['Number of Unique Values'])"
   ]
  },
  {
   "cell_type": "markdown",
   "metadata": {},
   "source": [
    "### Define features"
   ]
  },
  {
   "cell_type": "markdown",
   "metadata": {},
   "source": [
    "Define numerical features:"
   ]
  },
  {
   "cell_type": "code",
   "execution_count": 9,
   "metadata": {},
   "outputs": [],
   "source": [
    "map_feat = ['endstationlatitude','endstationlongitude','startstationlatitude','startstationlongitude']\n",
    "datetime_feat = ['birthyear','starttime', 'stoptime']\n",
    "cont_feat = map_feat + datetime_feat + ['tripduration']"
   ]
  },
  {
   "cell_type": "markdown",
   "metadata": {},
   "source": [
    "Define categorical features:"
   ]
  },
  {
   "cell_type": "code",
   "execution_count": 10,
   "metadata": {},
   "outputs": [],
   "source": [
    "num_nom_feat = ['bikeid','endstationid','startstationid','gender']\n",
    "cat_nom_feat = ['endstationname','startstationname','usertype']\n",
    "nom_feat = num_nom_feat + cat_nom_feat"
   ]
  },
  {
   "cell_type": "markdown",
   "metadata": {},
   "source": [
    "### Perform datatype conversions"
   ]
  },
  {
   "cell_type": "markdown",
   "metadata": {},
   "source": [
    "Convert to datetime format:"
   ]
  },
  {
   "cell_type": "code",
   "execution_count": 11,
   "metadata": {},
   "outputs": [],
   "source": [
    "cb['starttime'] = pd.to_datetime(cb.starttime)\n",
    "cb['stoptime'] = pd.to_datetime(cb.stoptime)\n",
    "cb['birthyear'] = pd.to_datetime(cb.birthyear, format='%Y')"
   ]
  },
  {
   "cell_type": "code",
   "execution_count": 12,
   "metadata": {},
   "outputs": [],
   "source": [
    "cb['birthyear'] = cb['birthyear'].dt.year"
   ]
  },
  {
   "cell_type": "markdown",
   "metadata": {},
   "source": [
    "Convert unique ID numbers and trip durations to `int64`:"
   ]
  },
  {
   "cell_type": "code",
   "execution_count": 13,
   "metadata": {},
   "outputs": [],
   "source": [
    "float_to_int = ['startstationid','endstationid','tripduration']\n",
    "\n",
    "cb[float_to_int] = cb[float_to_int].apply(lambda x: x.astype('int64'))"
   ]
  },
  {
   "cell_type": "markdown",
   "metadata": {},
   "source": [
    "Convert untreated nominal features to categorical datatype:"
   ]
  },
  {
   "cell_type": "code",
   "execution_count": 14,
   "metadata": {},
   "outputs": [],
   "source": [
    "cb[cat_nom_feat] = cb[cat_nom_feat].apply(lambda x: x.astype('category'))"
   ]
  },
  {
   "cell_type": "markdown",
   "metadata": {},
   "source": [
    "Check for successful datatype conversion and reduction in memory:"
   ]
  },
  {
   "cell_type": "code",
   "execution_count": 15,
   "metadata": {
    "scrolled": true
   },
   "outputs": [
    {
     "name": "stdout",
     "output_type": "stream",
     "text": [
      "<class 'pandas.core.frame.DataFrame'>\n",
      "RangeIndex: 4605356 entries, 0 to 4605355\n",
      "Data columns (total 15 columns):\n",
      "bikeid                   int64\n",
      "birthyear                int64\n",
      "endstationid             int64\n",
      "endstationlatitude       float64\n",
      "endstationlongitude      float64\n",
      "endstationname           category\n",
      "gender                   int64\n",
      "startstationid           int64\n",
      "startstationlatitude     float64\n",
      "startstationlongitude    float64\n",
      "startstationname         category\n",
      "starttime                datetime64[ns]\n",
      "stoptime                 datetime64[ns]\n",
      "tripduration             int64\n",
      "usertype                 category\n",
      "dtypes: category(3), datetime64[ns](2), float64(4), int64(6)\n",
      "memory usage: 443.7 MB\n"
     ]
    }
   ],
   "source": [
    "cb.info()"
   ]
  },
  {
   "cell_type": "markdown",
   "metadata": {},
   "source": [
    "## Feature engineering"
   ]
  },
  {
   "cell_type": "markdown",
   "metadata": {},
   "source": [
    "Define helper function to calculate distance between coordinates:"
   ]
  },
  {
   "cell_type": "code",
   "execution_count": 34,
   "metadata": {},
   "outputs": [],
   "source": [
    "from pyproj import Geod\n",
    "\n",
    "def calc_vincenty_dist(lat1, lon1, lat2, lon2): \n",
    "    az12, az21, dist = Geod(ellps='WGS84').inv(lon1, lat1, lon2, lat2)\n",
    "    return dist"
   ]
  },
  {
   "cell_type": "code",
   "execution_count": 23,
   "metadata": {},
   "outputs": [],
   "source": [
    "# # Cartesian Coordinate system, output in latlong dist\n",
    "# def calc_manh_distc(lat, lon):\n",
    "#     return sum(abs(lat_i-lat_j) for lat_i, lat_j in zip(lat, lon))"
   ]
  },
  {
   "cell_type": "code",
   "execution_count": 53,
   "metadata": {},
   "outputs": [],
   "source": [
    "# Haversine & inclination 29 degrees to True north\n",
    "# Credits: https://www.movable-type.co.uk/scripts/latlong.html,\n",
    "# https://gist.github.com/jkAtGitHub/8ae7da4d5dacb9969bff43500b5efbc0#file-manhattan_dist-py\n",
    "def calc_haversine_dist(lat1, lon1, lat2, lon2):\n",
    "    lat1, lat2, lon1, lon2 = np.radians(lat1), np.radians(lat2), np.radians(lon1), np.radians(lon2)\n",
    "    dlat, dlon = lat2 - lat1, lon2 - lon1\n",
    "    r = 3963 # Earth's radius in miles\n",
    "    \n",
    "    a = np.sin(dlat/2)**2 + np.cos(lat1) * np.cos(lat2) * np.sin(dlon/2)**2\n",
    "    c = 2 * np.arctan2(np.sqrt(a), np.sqrt(1-a)) \n",
    "    \n",
    "    total_dist = r * c\n",
    "    return total_dist\n",
    "\n",
    "def calc_manh_disth(lat1, lon1, lat2, lon2):\n",
    "    start = np.stack([lat1, lon1], axis=1)\n",
    "    end = np.stack([lat2, lon2], axis=1)\n",
    "    \n",
    "    theta1, theta2 = np.radians(-28.904), np.radians(28.904)\n",
    "    rmat1 = np.array([[np.cos(theta1), np.sin(theta1)], \n",
    "                      [-np.sin(theta1), np.cos(theta1)]])\n",
    "    rmat2 = np.array([[np.cos(theta2), np.sin(theta2)], \n",
    "                      [-np.sin(theta2), np.cos(theta2)]])\n",
    "    \n",
    "    start_rot = rmat1 @ start.T\n",
    "    end_rot = rmat1 @ end.T\n",
    "    \n",
    "    hinge = np.stack((start_rot[0,:], end_rot[1,:]))\n",
    "    hinge_coords = rmat2 @ hinge\n",
    "    \n",
    "    manh_dist = calc_haversine_dist(start.T[0], start.T[1], hinge_coords[0], hinge_coords[1]) + calc_haversine_dist(hinge_coords[0], hinge_coords[1], end.T[0], end.T[1])\n",
    "    return manh_dist"
   ]
  },
  {
   "cell_type": "markdown",
   "metadata": {},
   "source": [
    "Create new feature, `distance` (in miles):"
   ]
  },
  {
   "cell_type": "code",
   "execution_count": 41,
   "metadata": {},
   "outputs": [],
   "source": [
    "cb['tripdistance'] = calc_vincenty_dist(cb.startstationlatitude.tolist(), \n",
    "                                        cb.startstationlongitude.tolist(),\n",
    "                                        cb.endstationlatitude.tolist(),\n",
    "                                        cb.endstationlongitude.tolist())\n",
    "cb['tripdistance'] = cb['tripdistance'].apply(lambda x: x*0.000621371) # Convert from meters to miles"
   ]
  },
  {
   "cell_type": "code",
   "execution_count": 42,
   "metadata": {},
   "outputs": [
    {
     "data": {
      "text/plain": [
       "0          0.860408\n",
       "1          0.951472\n",
       "2          2.929130\n",
       "3          0.491748\n",
       "4          0.379186\n",
       "             ...   \n",
       "4605351    2.505844\n",
       "4605352    0.498789\n",
       "4605353    1.033515\n",
       "4605354    1.171593\n",
       "4605355    0.285159\n",
       "Name: tripdistance, Length: 4605356, dtype: float64"
      ]
     },
     "execution_count": 42,
     "metadata": {},
     "output_type": "execute_result"
    }
   ],
   "source": [
    "cb['tripdistance']"
   ]
  },
  {
   "cell_type": "code",
   "execution_count": 54,
   "metadata": {},
   "outputs": [],
   "source": [
    "cb['manhdistance'] = calc_manh_disth(cb.startstationlatitude,\n",
    "                                     cb.startstationlongitude,\n",
    "                                     cb.endstationlatitude,\n",
    "                                     cb.endstationlongitude)"
   ]
  },
  {
   "cell_type": "code",
   "execution_count": 55,
   "metadata": {},
   "outputs": [
    {
     "data": {
      "text/plain": [
       "0          1.072805\n",
       "1          1.228247\n",
       "2          3.553228\n",
       "3          0.539227\n",
       "4          0.514947\n",
       "             ...   \n",
       "4605351    3.258176\n",
       "4605352    0.636966\n",
       "4605353    1.624054\n",
       "4605354    1.406205\n",
       "4605355    0.358765\n",
       "Name: manhdistance, Length: 4605356, dtype: float64"
      ]
     },
     "execution_count": 55,
     "metadata": {},
     "output_type": "execute_result"
    }
   ],
   "source": [
    "cb['manhdistance']"
   ]
  },
  {
   "cell_type": "markdown",
   "metadata": {},
   "source": [
    "Create new features, `startmonth` and `endmonth`:"
   ]
  },
  {
   "cell_type": "code",
   "execution_count": 25,
   "metadata": {},
   "outputs": [],
   "source": [
    "cb['startmonth'] = cb['starttime'].dt.month\n",
    "cb['stopmonth'] = cb['stoptime'].dt.month"
   ]
  },
  {
   "cell_type": "markdown",
   "metadata": {},
   "source": [
    "Create new features for days of week, `startdayofweek` and `enddayofweek` (along with their numerical codes):"
   ]
  },
  {
   "cell_type": "code",
   "execution_count": 20,
   "metadata": {},
   "outputs": [],
   "source": [
    "cb['startdayofweek'] = cb['starttime'].dt.day_name()\n",
    "cb['startdayofweek_code'] = cb['starttime'].dt.dayofweek\n",
    "cb['stopdayofweek'] = cb['stoptime'].dt.day_name()\n",
    "cb['stopdayofweek_code'] = cb['stoptime'].dt.dayofweek"
   ]
  },
  {
   "cell_type": "code",
   "execution_count": 21,
   "metadata": {},
   "outputs": [],
   "source": [
    "# def trip_day(df):\n",
    "#     start_temp = pd.DataFrame({'startday': df['startdayofweek'].tolist(), 'code': df['startdayofweek_code'].tolist()})\n",
    "#     end_temp = pd.DataFrame({'endday': df['enddayofweek'].tolist(), 'code': df['enddayofweek_code'].tolist()})\n",
    "#     return pd.merge(start_temp, end_temp, left_on='startday', right_on='endday')\n",
    "\n",
    "# start_temp = pd.DataFrame({'day': cb['startdayofweek'].tolist(), 'code': cb['startdayofweek_code'].tolist()})\n",
    "# end_temp = pd.DataFrame({'day': cb['enddayofweek'].tolist(), 'code': cb['enddayofweek_code'].tolist()})\n",
    "\n",
    "# df_list = [start_temp, end_temp]\n",
    "# for df in df_list:\n",
    "#     df.set_index(['day'], inplace=True)\n",
    "\n",
    "# df = pd.concat(df_list, axis=1) # join='inner'\n",
    "# df.reset_index(inplace=True)"
   ]
  },
  {
   "cell_type": "markdown",
   "metadata": {},
   "source": [
    "Create new features, `starthour` and `endhour`:"
   ]
  },
  {
   "cell_type": "code",
   "execution_count": 26,
   "metadata": {},
   "outputs": [],
   "source": [
    "cb['starthour'] = cb['starttime'].dt.hour\n",
    "cb['endhour'] = cb['stoptime'].dt.hour"
   ]
  },
  {
   "cell_type": "markdown",
   "metadata": {},
   "source": [
    "Create new features, `startboro` and `endboro`:"
   ]
  },
  {
   "cell_type": "code",
   "execution_count": 45,
   "metadata": {},
   "outputs": [],
   "source": [
    "import geopandas as gpd\n",
    "import geopy\n",
    "from geopy.geocoders import Nominatim\n",
    "from geopy.extra.rate_limiter import RateLimiter\n",
    "from tqdm._tqdm_notebook import tqdm_notebook"
   ]
  },
  {
   "cell_type": "code",
   "execution_count": 61,
   "metadata": {},
   "outputs": [],
   "source": [
    "coords_df = pd.DataFrame({'startcoords': zip(cb.startstationlatitude, cb.startstationlongitude), \n",
    "              'endcoords': zip(cb.endstationlatitude, cb.endstationlongitude)})"
   ]
  },
  {
   "cell_type": "code",
   "execution_count": 55,
   "metadata": {},
   "outputs": [],
   "source": [
    "geolocator = Nominatim(user_agent='myGeocoder')"
   ]
  },
  {
   "cell_type": "code",
   "execution_count": 118,
   "metadata": {},
   "outputs": [],
   "source": [
    "loc_dict = locator.reverse(coords_df.startcoords[0]).raw"
   ]
  },
  {
   "cell_type": "code",
   "execution_count": null,
   "metadata": {},
   "outputs": [],
   "source": [
    "coords_df.apply(lambda x: locator.reverse(x.startcoords), axis=1).suburb"
   ]
  },
  {
   "cell_type": "code",
   "execution_count": null,
   "metadata": {},
   "outputs": [],
   "source": [
    "find_location(coords_df.startcoords)"
   ]
  },
  {
   "cell_type": "markdown",
   "metadata": {},
   "source": [
    "Create new features, `startneighborhood` and `endneighborhood`:"
   ]
  },
  {
   "cell_type": "code",
   "execution_count": null,
   "metadata": {},
   "outputs": [],
   "source": []
  },
  {
   "cell_type": "markdown",
   "metadata": {},
   "source": [
    "Create new feature, `uniquetripid`:"
   ]
  },
  {
   "cell_type": "code",
   "execution_count": null,
   "metadata": {},
   "outputs": [],
   "source": []
  },
  {
   "cell_type": "markdown",
   "metadata": {},
   "source": [
    "## Inspect data"
   ]
  },
  {
   "cell_type": "code",
   "execution_count": null,
   "metadata": {},
   "outputs": [],
   "source": []
  }
 ],
 "metadata": {
  "kernelspec": {
   "display_name": "Python 3",
   "language": "python",
   "name": "python3"
  },
  "language_info": {
   "codemirror_mode": {
    "name": "ipython",
    "version": 3
   },
   "file_extension": ".py",
   "mimetype": "text/x-python",
   "name": "python",
   "nbconvert_exporter": "python",
   "pygments_lexer": "ipython3",
   "version": "3.7.4"
  }
 },
 "nbformat": 4,
 "nbformat_minor": 2
}
