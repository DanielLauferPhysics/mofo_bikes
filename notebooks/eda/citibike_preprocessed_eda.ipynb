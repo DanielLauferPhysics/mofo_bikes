{
 "cells": [
  {
   "cell_type": "markdown",
   "metadata": {},
   "source": [
    "# Preprocessed Citibike Data: Exploratory Data Analysis"
   ]
  },
  {
   "cell_type": "markdown",
   "metadata": {},
   "source": [
    "## Import libraries"
   ]
  },
  {
   "cell_type": "code",
   "execution_count": 1,
   "metadata": {},
   "outputs": [],
   "source": [
    "import numpy as np\n",
    "import pandas as pd\n",
    "import datetime as dt\n",
    "from pandas.api.types import CategoricalDtype\n",
    "import seaborn as sns\n",
    "import matplotlib.pyplot as plt\n",
    "import plotly.graph_objects as go"
   ]
  },
  {
   "cell_type": "markdown",
   "metadata": {},
   "source": [
    "## Import and load data"
   ]
  },
  {
   "cell_type": "markdown",
   "metadata": {},
   "source": [
    "Import preprocessed data:"
   ]
  },
  {
   "cell_type": "code",
   "execution_count": 2,
   "metadata": {},
   "outputs": [],
   "source": [
    "cb_raw = pd.read_csv('../../data/02_processed/concat_file_processed.csv', \n",
    "                     parse_dates=['starttime', 'stoptime'])"
   ]
  },
  {
   "cell_type": "markdown",
   "metadata": {},
   "source": [
    "Drop unused index:"
   ]
  },
  {
   "cell_type": "code",
   "execution_count": 3,
   "metadata": {},
   "outputs": [],
   "source": [
    "cb_raw = cb_raw.drop('Unnamed: 0', axis=1)"
   ]
  },
  {
   "cell_type": "markdown",
   "metadata": {},
   "source": [
    "Make a copy: "
   ]
  },
  {
   "cell_type": "code",
   "execution_count": 4,
   "metadata": {},
   "outputs": [],
   "source": [
    "cb = cb_raw.copy()"
   ]
  },
  {
   "cell_type": "markdown",
   "metadata": {},
   "source": [
    "## Inspect data frame"
   ]
  },
  {
   "cell_type": "markdown",
   "metadata": {},
   "source": [
    "Get dimensions of data frame and datatypes of each feature:"
   ]
  },
  {
   "cell_type": "code",
   "execution_count": 5,
   "metadata": {},
   "outputs": [
    {
     "name": "stdout",
     "output_type": "stream",
     "text": [
      "<class 'pandas.core.frame.DataFrame'>\n",
      "RangeIndex: 4605356 entries, 0 to 4605355\n",
      "Data columns (total 15 columns):\n",
      "bikeid                   int64\n",
      "birthyear                float64\n",
      "endstationid             float64\n",
      "endstationlatitude       float64\n",
      "endstationlongitude      float64\n",
      "endstationname           object\n",
      "gender                   int64\n",
      "startstationid           float64\n",
      "startstationlatitude     float64\n",
      "startstationlongitude    float64\n",
      "startstationname         object\n",
      "starttime                datetime64[ns]\n",
      "stoptime                 datetime64[ns]\n",
      "tripduration             float64\n",
      "usertype                 object\n",
      "dtypes: datetime64[ns](2), float64(8), int64(2), object(3)\n",
      "memory usage: 527.0+ MB\n"
     ]
    }
   ],
   "source": [
    "cb.info()"
   ]
  },
  {
   "cell_type": "markdown",
   "metadata": {},
   "source": [
    "Randomly sample five observations:"
   ]
  },
  {
   "cell_type": "code",
   "execution_count": 6,
   "metadata": {},
   "outputs": [
    {
     "data": {
      "text/html": [
       "<div>\n",
       "<style scoped>\n",
       "    .dataframe tbody tr th:only-of-type {\n",
       "        vertical-align: middle;\n",
       "    }\n",
       "\n",
       "    .dataframe tbody tr th {\n",
       "        vertical-align: top;\n",
       "    }\n",
       "\n",
       "    .dataframe thead th {\n",
       "        text-align: right;\n",
       "    }\n",
       "</style>\n",
       "<table border=\"1\" class=\"dataframe\">\n",
       "  <thead>\n",
       "    <tr style=\"text-align: right;\">\n",
       "      <th></th>\n",
       "      <th>bikeid</th>\n",
       "      <th>birthyear</th>\n",
       "      <th>endstationid</th>\n",
       "      <th>endstationlatitude</th>\n",
       "      <th>endstationlongitude</th>\n",
       "      <th>endstationname</th>\n",
       "      <th>gender</th>\n",
       "      <th>startstationid</th>\n",
       "      <th>startstationlatitude</th>\n",
       "      <th>startstationlongitude</th>\n",
       "      <th>startstationname</th>\n",
       "      <th>starttime</th>\n",
       "      <th>stoptime</th>\n",
       "      <th>tripduration</th>\n",
       "      <th>usertype</th>\n",
       "    </tr>\n",
       "  </thead>\n",
       "  <tbody>\n",
       "    <tr>\n",
       "      <td>1395556</td>\n",
       "      <td>33252</td>\n",
       "      <td>1969.0</td>\n",
       "      <td>335.0</td>\n",
       "      <td>40.729039</td>\n",
       "      <td>-73.994046</td>\n",
       "      <td>Washington Pl &amp; Broadway</td>\n",
       "      <td>2</td>\n",
       "      <td>401.0</td>\n",
       "      <td>40.720196</td>\n",
       "      <td>-73.989978</td>\n",
       "      <td>Allen St &amp; Rivington St</td>\n",
       "      <td>2019-10-21 15:22:45.288</td>\n",
       "      <td>2019-10-21 15:33:30.546</td>\n",
       "      <td>645.0</td>\n",
       "      <td>Subscriber</td>\n",
       "    </tr>\n",
       "    <tr>\n",
       "      <td>1611127</td>\n",
       "      <td>29944</td>\n",
       "      <td>1987.0</td>\n",
       "      <td>3143.0</td>\n",
       "      <td>40.776321</td>\n",
       "      <td>-73.964274</td>\n",
       "      <td>5 Ave &amp; E 78 St</td>\n",
       "      <td>2</td>\n",
       "      <td>3374.0</td>\n",
       "      <td>40.799484</td>\n",
       "      <td>-73.955613</td>\n",
       "      <td>Central Park North &amp; Adam Clayton Powell Blvd</td>\n",
       "      <td>2018-07-30 17:59:08.350</td>\n",
       "      <td>2018-07-30 18:11:26.782</td>\n",
       "      <td>738.0</td>\n",
       "      <td>Subscriber</td>\n",
       "    </tr>\n",
       "    <tr>\n",
       "      <td>2042988</td>\n",
       "      <td>20021</td>\n",
       "      <td>1977.0</td>\n",
       "      <td>263.0</td>\n",
       "      <td>40.717290</td>\n",
       "      <td>-73.996375</td>\n",
       "      <td>Elizabeth St &amp; Hester St</td>\n",
       "      <td>2</td>\n",
       "      <td>301.0</td>\n",
       "      <td>40.722174</td>\n",
       "      <td>-73.983688</td>\n",
       "      <td>E 2 St &amp; Avenue B</td>\n",
       "      <td>2016-04-12 10:37:28.000</td>\n",
       "      <td>2016-04-12 10:49:54.000</td>\n",
       "      <td>746.0</td>\n",
       "      <td>Subscriber</td>\n",
       "    </tr>\n",
       "    <tr>\n",
       "      <td>3902652</td>\n",
       "      <td>18955</td>\n",
       "      <td>1969.0</td>\n",
       "      <td>321.0</td>\n",
       "      <td>40.699918</td>\n",
       "      <td>-73.989718</td>\n",
       "      <td>Cadman Plaza E &amp; Red Cross Pl</td>\n",
       "      <td>0</td>\n",
       "      <td>319.0</td>\n",
       "      <td>40.711066</td>\n",
       "      <td>-74.009447</td>\n",
       "      <td>Fulton St &amp; Broadway</td>\n",
       "      <td>2019-07-25 12:25:21.996</td>\n",
       "      <td>2019-07-25 13:17:05.715</td>\n",
       "      <td>3103.0</td>\n",
       "      <td>Customer</td>\n",
       "    </tr>\n",
       "    <tr>\n",
       "      <td>3382445</td>\n",
       "      <td>14681</td>\n",
       "      <td>1994.0</td>\n",
       "      <td>314.0</td>\n",
       "      <td>40.693830</td>\n",
       "      <td>-73.990539</td>\n",
       "      <td>Cadman Plaza West &amp; Montague St</td>\n",
       "      <td>1</td>\n",
       "      <td>521.0</td>\n",
       "      <td>40.750967</td>\n",
       "      <td>-73.994442</td>\n",
       "      <td>8 Ave &amp; W 31 St N</td>\n",
       "      <td>2013-06-24 10:47:49.000</td>\n",
       "      <td>2013-06-24 10:57:09.000</td>\n",
       "      <td>560.0</td>\n",
       "      <td>Subscriber</td>\n",
       "    </tr>\n",
       "  </tbody>\n",
       "</table>\n",
       "</div>"
      ],
      "text/plain": [
       "         bikeid  birthyear  endstationid  endstationlatitude  \\\n",
       "1395556   33252     1969.0         335.0           40.729039   \n",
       "1611127   29944     1987.0        3143.0           40.776321   \n",
       "2042988   20021     1977.0         263.0           40.717290   \n",
       "3902652   18955     1969.0         321.0           40.699918   \n",
       "3382445   14681     1994.0         314.0           40.693830   \n",
       "\n",
       "         endstationlongitude                   endstationname  gender  \\\n",
       "1395556           -73.994046         Washington Pl & Broadway       2   \n",
       "1611127           -73.964274                  5 Ave & E 78 St       2   \n",
       "2042988           -73.996375         Elizabeth St & Hester St       2   \n",
       "3902652           -73.989718    Cadman Plaza E & Red Cross Pl       0   \n",
       "3382445           -73.990539  Cadman Plaza West & Montague St       1   \n",
       "\n",
       "         startstationid  startstationlatitude  startstationlongitude  \\\n",
       "1395556           401.0             40.720196             -73.989978   \n",
       "1611127          3374.0             40.799484             -73.955613   \n",
       "2042988           301.0             40.722174             -73.983688   \n",
       "3902652           319.0             40.711066             -74.009447   \n",
       "3382445           521.0             40.750967             -73.994442   \n",
       "\n",
       "                                      startstationname  \\\n",
       "1395556                        Allen St & Rivington St   \n",
       "1611127  Central Park North & Adam Clayton Powell Blvd   \n",
       "2042988                              E 2 St & Avenue B   \n",
       "3902652                           Fulton St & Broadway   \n",
       "3382445                              8 Ave & W 31 St N   \n",
       "\n",
       "                      starttime                stoptime  tripduration  \\\n",
       "1395556 2019-10-21 15:22:45.288 2019-10-21 15:33:30.546         645.0   \n",
       "1611127 2018-07-30 17:59:08.350 2018-07-30 18:11:26.782         738.0   \n",
       "2042988 2016-04-12 10:37:28.000 2016-04-12 10:49:54.000         746.0   \n",
       "3902652 2019-07-25 12:25:21.996 2019-07-25 13:17:05.715        3103.0   \n",
       "3382445 2013-06-24 10:47:49.000 2013-06-24 10:57:09.000         560.0   \n",
       "\n",
       "           usertype  \n",
       "1395556  Subscriber  \n",
       "1611127  Subscriber  \n",
       "2042988  Subscriber  \n",
       "3902652    Customer  \n",
       "3382445  Subscriber  "
      ]
     },
     "execution_count": 6,
     "metadata": {},
     "output_type": "execute_result"
    }
   ],
   "source": [
    "cb.sample(n=5)"
   ]
  },
  {
   "cell_type": "markdown",
   "metadata": {},
   "source": [
    "Check for missing values – there should be none:"
   ]
  },
  {
   "cell_type": "code",
   "execution_count": 7,
   "metadata": {},
   "outputs": [
    {
     "data": {
      "text/plain": [
       "bikeid                   0\n",
       "birthyear                0\n",
       "endstationid             0\n",
       "endstationlatitude       0\n",
       "endstationlongitude      0\n",
       "endstationname           0\n",
       "gender                   0\n",
       "startstationid           0\n",
       "startstationlatitude     0\n",
       "startstationlongitude    0\n",
       "startstationname         0\n",
       "starttime                0\n",
       "stoptime                 0\n",
       "tripduration             0\n",
       "usertype                 0\n",
       "dtype: int64"
      ]
     },
     "execution_count": 7,
     "metadata": {},
     "output_type": "execute_result"
    }
   ],
   "source": [
    "cb.isnull().sum()"
   ]
  },
  {
   "cell_type": "markdown",
   "metadata": {},
   "source": [
    "## Data preprocessing"
   ]
  },
  {
   "cell_type": "markdown",
   "metadata": {},
   "source": [
    "Show unique values per feature:"
   ]
  },
  {
   "cell_type": "code",
   "execution_count": 8,
   "metadata": {},
   "outputs": [
    {
     "data": {
      "text/html": [
       "<div>\n",
       "<style scoped>\n",
       "    .dataframe tbody tr th:only-of-type {\n",
       "        vertical-align: middle;\n",
       "    }\n",
       "\n",
       "    .dataframe tbody tr th {\n",
       "        vertical-align: top;\n",
       "    }\n",
       "\n",
       "    .dataframe thead th {\n",
       "        text-align: right;\n",
       "    }\n",
       "</style>\n",
       "<table border=\"1\" class=\"dataframe\">\n",
       "  <thead>\n",
       "    <tr style=\"text-align: right;\">\n",
       "      <th></th>\n",
       "      <th>Feature</th>\n",
       "      <th>Number of Unique Values</th>\n",
       "    </tr>\n",
       "  </thead>\n",
       "  <tbody>\n",
       "    <tr>\n",
       "      <td>6</td>\n",
       "      <td>gender</td>\n",
       "      <td>3</td>\n",
       "    </tr>\n",
       "    <tr>\n",
       "      <td>14</td>\n",
       "      <td>usertype</td>\n",
       "      <td>3</td>\n",
       "    </tr>\n",
       "    <tr>\n",
       "      <td>1</td>\n",
       "      <td>birthyear</td>\n",
       "      <td>85</td>\n",
       "    </tr>\n",
       "    <tr>\n",
       "      <td>7</td>\n",
       "      <td>startstationid</td>\n",
       "      <td>1058</td>\n",
       "    </tr>\n",
       "    <tr>\n",
       "      <td>2</td>\n",
       "      <td>endstationid</td>\n",
       "      <td>1073</td>\n",
       "    </tr>\n",
       "    <tr>\n",
       "      <td>10</td>\n",
       "      <td>startstationname</td>\n",
       "      <td>1089</td>\n",
       "    </tr>\n",
       "    <tr>\n",
       "      <td>5</td>\n",
       "      <td>endstationname</td>\n",
       "      <td>1107</td>\n",
       "    </tr>\n",
       "    <tr>\n",
       "      <td>9</td>\n",
       "      <td>startstationlongitude</td>\n",
       "      <td>1121</td>\n",
       "    </tr>\n",
       "    <tr>\n",
       "      <td>4</td>\n",
       "      <td>endstationlongitude</td>\n",
       "      <td>1140</td>\n",
       "    </tr>\n",
       "    <tr>\n",
       "      <td>8</td>\n",
       "      <td>startstationlatitude</td>\n",
       "      <td>1201</td>\n",
       "    </tr>\n",
       "    <tr>\n",
       "      <td>3</td>\n",
       "      <td>endstationlatitude</td>\n",
       "      <td>1221</td>\n",
       "    </tr>\n",
       "    <tr>\n",
       "      <td>13</td>\n",
       "      <td>tripduration</td>\n",
       "      <td>16944</td>\n",
       "    </tr>\n",
       "    <tr>\n",
       "      <td>0</td>\n",
       "      <td>bikeid</td>\n",
       "      <td>24478</td>\n",
       "    </tr>\n",
       "    <tr>\n",
       "      <td>11</td>\n",
       "      <td>starttime</td>\n",
       "      <td>4518853</td>\n",
       "    </tr>\n",
       "    <tr>\n",
       "      <td>12</td>\n",
       "      <td>stoptime</td>\n",
       "      <td>4519475</td>\n",
       "    </tr>\n",
       "  </tbody>\n",
       "</table>\n",
       "</div>"
      ],
      "text/plain": [
       "                  Feature  Number of Unique Values\n",
       "6                  gender                        3\n",
       "14               usertype                        3\n",
       "1               birthyear                       85\n",
       "7          startstationid                     1058\n",
       "2            endstationid                     1073\n",
       "10       startstationname                     1089\n",
       "5          endstationname                     1107\n",
       "9   startstationlongitude                     1121\n",
       "4     endstationlongitude                     1140\n",
       "8    startstationlatitude                     1201\n",
       "3      endstationlatitude                     1221\n",
       "13           tripduration                    16944\n",
       "0                  bikeid                    24478\n",
       "11              starttime                  4518853\n",
       "12               stoptime                  4519475"
      ]
     },
     "execution_count": 8,
     "metadata": {},
     "output_type": "execute_result"
    }
   ],
   "source": [
    "pd.DataFrame.from_records([(col, cb[col].nunique()) for col in cb.columns],\n",
    "                          columns=['Feature', 'Number of Unique Values']).sort_values(by=['Number of Unique Values'])"
   ]
  },
  {
   "cell_type": "markdown",
   "metadata": {},
   "source": [
    "### Define features"
   ]
  },
  {
   "cell_type": "markdown",
   "metadata": {},
   "source": [
    "Define numerical features:"
   ]
  },
  {
   "cell_type": "code",
   "execution_count": 9,
   "metadata": {},
   "outputs": [],
   "source": [
    "map_feat = ['endstationlatitude','endstationlongitude','startstationlatitude','startstationlongitude']\n",
    "datetime_feat = ['birthyear','starttime', 'stoptime']\n",
    "cont_feat = map_feat + datetime_feat + ['tripduration']"
   ]
  },
  {
   "cell_type": "markdown",
   "metadata": {},
   "source": [
    "Define categorical features:"
   ]
  },
  {
   "cell_type": "code",
   "execution_count": 10,
   "metadata": {},
   "outputs": [],
   "source": [
    "num_nom_feat = ['bikeid','endstationid','startstationid','gender']\n",
    "cat_nom_feat = ['endstationname','startstationname','usertype']\n",
    "nom_feat = num_nom_feat + cat_nom_feat"
   ]
  },
  {
   "cell_type": "markdown",
   "metadata": {},
   "source": [
    "### Perform datatype conversions"
   ]
  },
  {
   "cell_type": "markdown",
   "metadata": {},
   "source": [
    "Convert features to `float16` or `int16` to reduce memory:"
   ]
  },
  {
   "cell_type": "code",
   "execution_count": 11,
   "metadata": {},
   "outputs": [],
   "source": [
    "cb.birthyear = cb.birthyear.astype('float16').astype('int16')"
   ]
  },
  {
   "cell_type": "code",
   "execution_count": 12,
   "metadata": {},
   "outputs": [],
   "source": [
    "cb[map_feat] = cb[map_feat].apply(lambda x: x.astype('float16'))"
   ]
  },
  {
   "cell_type": "code",
   "execution_count": 13,
   "metadata": {},
   "outputs": [],
   "source": [
    "float_to_int = ['startstationid','endstationid','tripduration','bikeid']\n",
    "\n",
    "cb[float_to_int] = cb[float_to_int].apply(lambda x: x.astype('int16'))"
   ]
  },
  {
   "cell_type": "markdown",
   "metadata": {},
   "source": [
    "Convert untreated nominal features to categorical datatype to reduce memory:"
   ]
  },
  {
   "cell_type": "code",
   "execution_count": 14,
   "metadata": {},
   "outputs": [],
   "source": [
    "cb[cat_nom_feat] = cb[cat_nom_feat].apply(lambda x: x.astype('category'))"
   ]
  },
  {
   "cell_type": "markdown",
   "metadata": {},
   "source": [
    "Convert to datetime format:"
   ]
  },
  {
   "cell_type": "code",
   "execution_count": 15,
   "metadata": {},
   "outputs": [],
   "source": [
    "cb['birthyear'] = pd.to_datetime(cb.birthyear, format='%Y')\n",
    "# cb['birthyear'] = cb['birthyear'].dt.year"
   ]
  },
  {
   "cell_type": "markdown",
   "metadata": {},
   "source": [
    "Check for successful datatype conversion and reduction in memory:"
   ]
  },
  {
   "cell_type": "code",
   "execution_count": 16,
   "metadata": {
    "scrolled": true
   },
   "outputs": [
    {
     "name": "stdout",
     "output_type": "stream",
     "text": [
      "<class 'pandas.core.frame.DataFrame'>\n",
      "RangeIndex: 4605356 entries, 0 to 4605355\n",
      "Data columns (total 15 columns):\n",
      "bikeid                   int16\n",
      "birthyear                datetime64[ns]\n",
      "endstationid             int16\n",
      "endstationlatitude       float16\n",
      "endstationlongitude      float16\n",
      "endstationname           category\n",
      "gender                   int64\n",
      "startstationid           int16\n",
      "startstationlatitude     float16\n",
      "startstationlongitude    float16\n",
      "startstationname         category\n",
      "starttime                datetime64[ns]\n",
      "stoptime                 datetime64[ns]\n",
      "tripduration             int16\n",
      "usertype                 category\n",
      "dtypes: category(3), datetime64[ns](3), float16(4), int16(4), int64(1)\n",
      "memory usage: 232.9 MB\n"
     ]
    }
   ],
   "source": [
    "cb.info()"
   ]
  },
  {
   "cell_type": "markdown",
   "metadata": {},
   "source": [
    "## Feature engineering"
   ]
  },
  {
   "cell_type": "markdown",
   "metadata": {},
   "source": [
    "### Impute missing or incorrect values"
   ]
  },
  {
   "cell_type": "markdown",
   "metadata": {},
   "source": [
    "Check observations where latitude and longitude don't make any sense:"
   ]
  },
  {
   "cell_type": "code",
   "execution_count": 17,
   "metadata": {},
   "outputs": [],
   "source": [
    "observe = [4455178, 2022803, 2051817, 3007606, 2022782, 2035624, 3539070, 956266]"
   ]
  },
  {
   "cell_type": "code",
   "execution_count": 18,
   "metadata": {},
   "outputs": [
    {
     "data": {
      "text/html": [
       "<div>\n",
       "<style scoped>\n",
       "    .dataframe tbody tr th:only-of-type {\n",
       "        vertical-align: middle;\n",
       "    }\n",
       "\n",
       "    .dataframe tbody tr th {\n",
       "        vertical-align: top;\n",
       "    }\n",
       "\n",
       "    .dataframe thead th {\n",
       "        text-align: right;\n",
       "    }\n",
       "</style>\n",
       "<table border=\"1\" class=\"dataframe\">\n",
       "  <thead>\n",
       "    <tr style=\"text-align: right;\">\n",
       "      <th></th>\n",
       "      <th>bikeid</th>\n",
       "      <th>birthyear</th>\n",
       "      <th>endstationid</th>\n",
       "      <th>endstationlatitude</th>\n",
       "      <th>endstationlongitude</th>\n",
       "      <th>endstationname</th>\n",
       "      <th>gender</th>\n",
       "      <th>startstationid</th>\n",
       "      <th>startstationlatitude</th>\n",
       "      <th>startstationlongitude</th>\n",
       "      <th>startstationname</th>\n",
       "      <th>starttime</th>\n",
       "      <th>stoptime</th>\n",
       "      <th>tripduration</th>\n",
       "      <th>usertype</th>\n",
       "    </tr>\n",
       "  </thead>\n",
       "  <tbody>\n",
       "    <tr>\n",
       "      <td>4455178</td>\n",
       "      <td>31949</td>\n",
       "      <td>1994-01-01</td>\n",
       "      <td>3186</td>\n",
       "      <td>40.71875</td>\n",
       "      <td>-74.0625</td>\n",
       "      <td>Grove St PATH</td>\n",
       "      <td>2</td>\n",
       "      <td>3480</td>\n",
       "      <td>0.00000</td>\n",
       "      <td>0.0</td>\n",
       "      <td>WS Don't Use</td>\n",
       "      <td>2017-10-02 14:36:25</td>\n",
       "      <td>2017-10-02 14:51:36</td>\n",
       "      <td>910</td>\n",
       "      <td>Subscriber</td>\n",
       "    </tr>\n",
       "    <tr>\n",
       "      <td>2022803</td>\n",
       "      <td>17615</td>\n",
       "      <td>1986-01-01</td>\n",
       "      <td>3230</td>\n",
       "      <td>40.75000</td>\n",
       "      <td>-74.0000</td>\n",
       "      <td>Penn Station Valet</td>\n",
       "      <td>1</td>\n",
       "      <td>3240</td>\n",
       "      <td>0.00000</td>\n",
       "      <td>0.0</td>\n",
       "      <td>NYCBS Depot BAL - DYR</td>\n",
       "      <td>2016-12-23 15:04:58</td>\n",
       "      <td>2016-12-23 15:13:22</td>\n",
       "      <td>503</td>\n",
       "      <td>Subscriber</td>\n",
       "    </tr>\n",
       "    <tr>\n",
       "      <td>2051817</td>\n",
       "      <td>17215</td>\n",
       "      <td>1900-01-01</td>\n",
       "      <td>3240</td>\n",
       "      <td>0.00000</td>\n",
       "      <td>0.0000</td>\n",
       "      <td>NYCBS Depot BAL - DYR</td>\n",
       "      <td>0</td>\n",
       "      <td>327</td>\n",
       "      <td>40.71875</td>\n",
       "      <td>-74.0</td>\n",
       "      <td>Vesey Pl &amp; River Terrace</td>\n",
       "      <td>2016-04-17 10:05:25</td>\n",
       "      <td>2016-04-18 00:07:42</td>\n",
       "      <td>-14999</td>\n",
       "      <td>Customer</td>\n",
       "    </tr>\n",
       "    <tr>\n",
       "      <td>3007606</td>\n",
       "      <td>20140</td>\n",
       "      <td>1967-01-01</td>\n",
       "      <td>3240</td>\n",
       "      <td>0.00000</td>\n",
       "      <td>0.0000</td>\n",
       "      <td>NYCBS Depot BAL - DYR</td>\n",
       "      <td>1</td>\n",
       "      <td>303</td>\n",
       "      <td>40.71875</td>\n",
       "      <td>-74.0</td>\n",
       "      <td>Mercer St &amp; Spring St</td>\n",
       "      <td>2016-01-21 18:31:28</td>\n",
       "      <td>2016-02-01 03:01:19</td>\n",
       "      <td>-22914</td>\n",
       "      <td>Subscriber</td>\n",
       "    </tr>\n",
       "    <tr>\n",
       "      <td>2022782</td>\n",
       "      <td>17615</td>\n",
       "      <td>1986-01-01</td>\n",
       "      <td>3240</td>\n",
       "      <td>0.00000</td>\n",
       "      <td>0.0000</td>\n",
       "      <td>NYCBS Depot BAL - DYR</td>\n",
       "      <td>1</td>\n",
       "      <td>449</td>\n",
       "      <td>40.75000</td>\n",
       "      <td>-74.0</td>\n",
       "      <td>W 52 St &amp; 9 Ave</td>\n",
       "      <td>2016-12-23 14:53:57</td>\n",
       "      <td>2016-12-23 15:04:06</td>\n",
       "      <td>609</td>\n",
       "      <td>Subscriber</td>\n",
       "    </tr>\n",
       "    <tr>\n",
       "      <td>2035624</td>\n",
       "      <td>15812</td>\n",
       "      <td>1952-01-01</td>\n",
       "      <td>3240</td>\n",
       "      <td>0.00000</td>\n",
       "      <td>0.0000</td>\n",
       "      <td>NYCBS Depot BAL - DYR</td>\n",
       "      <td>1</td>\n",
       "      <td>267</td>\n",
       "      <td>40.75000</td>\n",
       "      <td>-74.0</td>\n",
       "      <td>Broadway &amp; W 36 St</td>\n",
       "      <td>2016-04-06 14:40:44</td>\n",
       "      <td>2016-04-06 14:52:09</td>\n",
       "      <td>685</td>\n",
       "      <td>Subscriber</td>\n",
       "    </tr>\n",
       "    <tr>\n",
       "      <td>3539070</td>\n",
       "      <td>26076</td>\n",
       "      <td>1961-01-01</td>\n",
       "      <td>3240</td>\n",
       "      <td>0.00000</td>\n",
       "      <td>0.0000</td>\n",
       "      <td>NYCBS Depot BAL - DYR</td>\n",
       "      <td>1</td>\n",
       "      <td>447</td>\n",
       "      <td>40.75000</td>\n",
       "      <td>-74.0</td>\n",
       "      <td>8 Ave &amp; W 52 St</td>\n",
       "      <td>2016-11-17 19:34:14</td>\n",
       "      <td>2016-11-17 19:42:25</td>\n",
       "      <td>491</td>\n",
       "      <td>Subscriber</td>\n",
       "    </tr>\n",
       "    <tr>\n",
       "      <td>956266</td>\n",
       "      <td>25297</td>\n",
       "      <td>1984-01-01</td>\n",
       "      <td>3240</td>\n",
       "      <td>0.00000</td>\n",
       "      <td>0.0000</td>\n",
       "      <td>NYCBS Depot BAL - DYR</td>\n",
       "      <td>1</td>\n",
       "      <td>476</td>\n",
       "      <td>40.75000</td>\n",
       "      <td>-74.0</td>\n",
       "      <td>E 31 St &amp; 3 Ave</td>\n",
       "      <td>2016-10-18 16:30:06</td>\n",
       "      <td>2016-10-18 16:51:43</td>\n",
       "      <td>1296</td>\n",
       "      <td>Subscriber</td>\n",
       "    </tr>\n",
       "  </tbody>\n",
       "</table>\n",
       "</div>"
      ],
      "text/plain": [
       "         bikeid  birthyear  endstationid  endstationlatitude  \\\n",
       "4455178   31949 1994-01-01          3186            40.71875   \n",
       "2022803   17615 1986-01-01          3230            40.75000   \n",
       "2051817   17215 1900-01-01          3240             0.00000   \n",
       "3007606   20140 1967-01-01          3240             0.00000   \n",
       "2022782   17615 1986-01-01          3240             0.00000   \n",
       "2035624   15812 1952-01-01          3240             0.00000   \n",
       "3539070   26076 1961-01-01          3240             0.00000   \n",
       "956266    25297 1984-01-01          3240             0.00000   \n",
       "\n",
       "         endstationlongitude         endstationname  gender  startstationid  \\\n",
       "4455178             -74.0625          Grove St PATH       2            3480   \n",
       "2022803             -74.0000     Penn Station Valet       1            3240   \n",
       "2051817               0.0000  NYCBS Depot BAL - DYR       0             327   \n",
       "3007606               0.0000  NYCBS Depot BAL - DYR       1             303   \n",
       "2022782               0.0000  NYCBS Depot BAL - DYR       1             449   \n",
       "2035624               0.0000  NYCBS Depot BAL - DYR       1             267   \n",
       "3539070               0.0000  NYCBS Depot BAL - DYR       1             447   \n",
       "956266                0.0000  NYCBS Depot BAL - DYR       1             476   \n",
       "\n",
       "         startstationlatitude  startstationlongitude  \\\n",
       "4455178               0.00000                    0.0   \n",
       "2022803               0.00000                    0.0   \n",
       "2051817              40.71875                  -74.0   \n",
       "3007606              40.71875                  -74.0   \n",
       "2022782              40.75000                  -74.0   \n",
       "2035624              40.75000                  -74.0   \n",
       "3539070              40.75000                  -74.0   \n",
       "956266               40.75000                  -74.0   \n",
       "\n",
       "                 startstationname           starttime            stoptime  \\\n",
       "4455178              WS Don't Use 2017-10-02 14:36:25 2017-10-02 14:51:36   \n",
       "2022803     NYCBS Depot BAL - DYR 2016-12-23 15:04:58 2016-12-23 15:13:22   \n",
       "2051817  Vesey Pl & River Terrace 2016-04-17 10:05:25 2016-04-18 00:07:42   \n",
       "3007606     Mercer St & Spring St 2016-01-21 18:31:28 2016-02-01 03:01:19   \n",
       "2022782           W 52 St & 9 Ave 2016-12-23 14:53:57 2016-12-23 15:04:06   \n",
       "2035624        Broadway & W 36 St 2016-04-06 14:40:44 2016-04-06 14:52:09   \n",
       "3539070           8 Ave & W 52 St 2016-11-17 19:34:14 2016-11-17 19:42:25   \n",
       "956266            E 31 St & 3 Ave 2016-10-18 16:30:06 2016-10-18 16:51:43   \n",
       "\n",
       "         tripduration    usertype  \n",
       "4455178           910  Subscriber  \n",
       "2022803           503  Subscriber  \n",
       "2051817        -14999    Customer  \n",
       "3007606        -22914  Subscriber  \n",
       "2022782           609  Subscriber  \n",
       "2035624           685  Subscriber  \n",
       "3539070           491  Subscriber  \n",
       "956266           1296  Subscriber  "
      ]
     },
     "execution_count": 18,
     "metadata": {},
     "output_type": "execute_result"
    }
   ],
   "source": [
    "cb.iloc[observe,:]"
   ]
  },
  {
   "cell_type": "markdown",
   "metadata": {},
   "source": [
    "Correct errors and impute most likely values:"
   ]
  },
  {
   "cell_type": "code",
   "execution_count": 19,
   "metadata": {},
   "outputs": [],
   "source": [
    "cb.loc[cb['endstationlatitude'] == 0, 'endstationlatitude'] = 40.75\n",
    "cb.loc[cb['endstationlongitude'] == 0, 'endstationlongitude'] = -74.0\n",
    "cb.loc[cb['startstationlongitude']==0, 'startstationlongitude'] = -74.0\n",
    "cb.loc[cb['startstationlatitude'] == 0, 'startstationlatitude'] = 40.75"
   ]
  },
  {
   "cell_type": "markdown",
   "metadata": {},
   "source": [
    "Drop observation where `startstationname` reads \"WS Don't Use\":"
   ]
  },
  {
   "cell_type": "code",
   "execution_count": 20,
   "metadata": {},
   "outputs": [
    {
     "data": {
      "text/html": [
       "<div>\n",
       "<style scoped>\n",
       "    .dataframe tbody tr th:only-of-type {\n",
       "        vertical-align: middle;\n",
       "    }\n",
       "\n",
       "    .dataframe tbody tr th {\n",
       "        vertical-align: top;\n",
       "    }\n",
       "\n",
       "    .dataframe thead th {\n",
       "        text-align: right;\n",
       "    }\n",
       "</style>\n",
       "<table border=\"1\" class=\"dataframe\">\n",
       "  <thead>\n",
       "    <tr style=\"text-align: right;\">\n",
       "      <th></th>\n",
       "      <th>index</th>\n",
       "      <th>bikeid</th>\n",
       "      <th>birthyear</th>\n",
       "      <th>endstationid</th>\n",
       "      <th>endstationlatitude</th>\n",
       "      <th>endstationlongitude</th>\n",
       "      <th>endstationname</th>\n",
       "      <th>gender</th>\n",
       "      <th>startstationid</th>\n",
       "      <th>startstationlatitude</th>\n",
       "      <th>startstationlongitude</th>\n",
       "      <th>startstationname</th>\n",
       "      <th>starttime</th>\n",
       "      <th>stoptime</th>\n",
       "      <th>tripduration</th>\n",
       "      <th>usertype</th>\n",
       "    </tr>\n",
       "  </thead>\n",
       "  <tbody>\n",
       "    <tr>\n",
       "      <td>0</td>\n",
       "      <td>0</td>\n",
       "      <td>16852</td>\n",
       "      <td>1991-01-01</td>\n",
       "      <td>252</td>\n",
       "      <td>40.71875</td>\n",
       "      <td>-74.0000</td>\n",
       "      <td>MacDougal St &amp; Washington Sq</td>\n",
       "      <td>1</td>\n",
       "      <td>312</td>\n",
       "      <td>40.71875</td>\n",
       "      <td>-74.0000</td>\n",
       "      <td>Allen St &amp; Stanton St</td>\n",
       "      <td>2017-09-01 00:04:15.000</td>\n",
       "      <td>2017-09-01 00:11:18.000</td>\n",
       "      <td>422</td>\n",
       "      <td>Subscriber</td>\n",
       "    </tr>\n",
       "    <tr>\n",
       "      <td>1</td>\n",
       "      <td>1</td>\n",
       "      <td>27730</td>\n",
       "      <td>1983-01-01</td>\n",
       "      <td>468</td>\n",
       "      <td>40.75000</td>\n",
       "      <td>-74.0000</td>\n",
       "      <td>Broadway &amp; W 56 St</td>\n",
       "      <td>1</td>\n",
       "      <td>478</td>\n",
       "      <td>40.75000</td>\n",
       "      <td>-74.0000</td>\n",
       "      <td>11 Ave &amp; W 41 St</td>\n",
       "      <td>2017-09-01 00:06:19.000</td>\n",
       "      <td>2017-09-01 00:17:09.000</td>\n",
       "      <td>650</td>\n",
       "      <td>Subscriber</td>\n",
       "    </tr>\n",
       "    <tr>\n",
       "      <td>2</td>\n",
       "      <td>2</td>\n",
       "      <td>28032</td>\n",
       "      <td>1989-01-01</td>\n",
       "      <td>395</td>\n",
       "      <td>40.68750</td>\n",
       "      <td>-74.0000</td>\n",
       "      <td>Bond St &amp; Schermerhorn St</td>\n",
       "      <td>1</td>\n",
       "      <td>237</td>\n",
       "      <td>40.71875</td>\n",
       "      <td>-74.0000</td>\n",
       "      <td>E 11 St &amp; 2 Ave</td>\n",
       "      <td>2017-09-01 00:07:34.000</td>\n",
       "      <td>2017-09-01 00:29:49.000</td>\n",
       "      <td>1334</td>\n",
       "      <td>Subscriber</td>\n",
       "    </tr>\n",
       "    <tr>\n",
       "      <td>3</td>\n",
       "      <td>3</td>\n",
       "      <td>15651</td>\n",
       "      <td>1989-01-01</td>\n",
       "      <td>3449</td>\n",
       "      <td>40.71875</td>\n",
       "      <td>-73.9375</td>\n",
       "      <td>Eckford St &amp; Engert Ave</td>\n",
       "      <td>2</td>\n",
       "      <td>3090</td>\n",
       "      <td>40.71875</td>\n",
       "      <td>-73.9375</td>\n",
       "      <td>N 8 St &amp; Driggs Ave</td>\n",
       "      <td>2017-09-01 00:10:49.000</td>\n",
       "      <td>2017-09-01 00:13:52.000</td>\n",
       "      <td>182</td>\n",
       "      <td>Subscriber</td>\n",
       "    </tr>\n",
       "    <tr>\n",
       "      <td>4</td>\n",
       "      <td>4</td>\n",
       "      <td>17018</td>\n",
       "      <td>1900-01-01</td>\n",
       "      <td>402</td>\n",
       "      <td>40.75000</td>\n",
       "      <td>-74.0000</td>\n",
       "      <td>Broadway &amp; E 22 St</td>\n",
       "      <td>0</td>\n",
       "      <td>325</td>\n",
       "      <td>40.75000</td>\n",
       "      <td>-74.0000</td>\n",
       "      <td>E 19 St &amp; 3 Ave</td>\n",
       "      <td>2017-09-01 00:11:00.000</td>\n",
       "      <td>2017-09-01 00:15:39.000</td>\n",
       "      <td>278</td>\n",
       "      <td>Customer</td>\n",
       "    </tr>\n",
       "    <tr>\n",
       "      <td>...</td>\n",
       "      <td>...</td>\n",
       "      <td>...</td>\n",
       "      <td>...</td>\n",
       "      <td>...</td>\n",
       "      <td>...</td>\n",
       "      <td>...</td>\n",
       "      <td>...</td>\n",
       "      <td>...</td>\n",
       "      <td>...</td>\n",
       "      <td>...</td>\n",
       "      <td>...</td>\n",
       "      <td>...</td>\n",
       "      <td>...</td>\n",
       "      <td>...</td>\n",
       "      <td>...</td>\n",
       "      <td>...</td>\n",
       "    </tr>\n",
       "    <tr>\n",
       "      <td>4605350</td>\n",
       "      <td>4605351</td>\n",
       "      <td>27660</td>\n",
       "      <td>1990-01-01</td>\n",
       "      <td>3151</td>\n",
       "      <td>40.78125</td>\n",
       "      <td>-73.9375</td>\n",
       "      <td>E 81 St &amp; York Ave</td>\n",
       "      <td>1</td>\n",
       "      <td>515</td>\n",
       "      <td>40.75000</td>\n",
       "      <td>-74.0000</td>\n",
       "      <td>W 43 St &amp; 10 Ave</td>\n",
       "      <td>2020-01-31 23:51:51.926</td>\n",
       "      <td>2020-02-01 00:17:04.412</td>\n",
       "      <td>1512</td>\n",
       "      <td>Subscriber</td>\n",
       "    </tr>\n",
       "    <tr>\n",
       "      <td>4605351</td>\n",
       "      <td>4605352</td>\n",
       "      <td>-26642</td>\n",
       "      <td>1981-01-01</td>\n",
       "      <td>532</td>\n",
       "      <td>40.71875</td>\n",
       "      <td>-73.9375</td>\n",
       "      <td>S 5 Pl &amp; S 5 St</td>\n",
       "      <td>1</td>\n",
       "      <td>3093</td>\n",
       "      <td>40.71875</td>\n",
       "      <td>-73.9375</td>\n",
       "      <td>N 6 St &amp; Bedford Ave</td>\n",
       "      <td>2020-01-31 23:51:56.901</td>\n",
       "      <td>2020-01-31 23:57:05.299</td>\n",
       "      <td>308</td>\n",
       "      <td>Subscriber</td>\n",
       "    </tr>\n",
       "    <tr>\n",
       "      <td>4605352</td>\n",
       "      <td>4605353</td>\n",
       "      <td>-25475</td>\n",
       "      <td>1983-01-01</td>\n",
       "      <td>3374</td>\n",
       "      <td>40.81250</td>\n",
       "      <td>-73.9375</td>\n",
       "      <td>Central Park North &amp; Adam Clayton Powell Blvd</td>\n",
       "      <td>1</td>\n",
       "      <td>3496</td>\n",
       "      <td>40.78125</td>\n",
       "      <td>-73.9375</td>\n",
       "      <td>1 Ave &amp; E 110 St</td>\n",
       "      <td>2020-01-31 23:53:54.344</td>\n",
       "      <td>2020-01-31 23:59:52.961</td>\n",
       "      <td>358</td>\n",
       "      <td>Subscriber</td>\n",
       "    </tr>\n",
       "    <tr>\n",
       "      <td>4605353</td>\n",
       "      <td>4605354</td>\n",
       "      <td>-24990</td>\n",
       "      <td>1993-01-01</td>\n",
       "      <td>305</td>\n",
       "      <td>40.75000</td>\n",
       "      <td>-73.9375</td>\n",
       "      <td>E 58 St &amp; 3 Ave</td>\n",
       "      <td>1</td>\n",
       "      <td>3671</td>\n",
       "      <td>40.78125</td>\n",
       "      <td>-73.9375</td>\n",
       "      <td>E 81 St &amp; 2 Ave</td>\n",
       "      <td>2020-01-31 23:53:59.607</td>\n",
       "      <td>2020-02-01 00:02:46.609</td>\n",
       "      <td>527</td>\n",
       "      <td>Subscriber</td>\n",
       "    </tr>\n",
       "    <tr>\n",
       "      <td>4605354</td>\n",
       "      <td>4605355</td>\n",
       "      <td>20649</td>\n",
       "      <td>1961-01-01</td>\n",
       "      <td>3283</td>\n",
       "      <td>40.78125</td>\n",
       "      <td>-74.0000</td>\n",
       "      <td>W 89 St &amp; Columbus Ave</td>\n",
       "      <td>1</td>\n",
       "      <td>3301</td>\n",
       "      <td>40.78125</td>\n",
       "      <td>-73.9375</td>\n",
       "      <td>Columbus Ave &amp; W 95 St</td>\n",
       "      <td>2020-01-31 23:59:03.351</td>\n",
       "      <td>2020-02-01 00:01:01.866</td>\n",
       "      <td>118</td>\n",
       "      <td>Subscriber</td>\n",
       "    </tr>\n",
       "  </tbody>\n",
       "</table>\n",
       "<p>4605355 rows × 16 columns</p>\n",
       "</div>"
      ],
      "text/plain": [
       "           index  bikeid  birthyear  endstationid  endstationlatitude  \\\n",
       "0              0   16852 1991-01-01           252            40.71875   \n",
       "1              1   27730 1983-01-01           468            40.75000   \n",
       "2              2   28032 1989-01-01           395            40.68750   \n",
       "3              3   15651 1989-01-01          3449            40.71875   \n",
       "4              4   17018 1900-01-01           402            40.75000   \n",
       "...          ...     ...        ...           ...                 ...   \n",
       "4605350  4605351   27660 1990-01-01          3151            40.78125   \n",
       "4605351  4605352  -26642 1981-01-01           532            40.71875   \n",
       "4605352  4605353  -25475 1983-01-01          3374            40.81250   \n",
       "4605353  4605354  -24990 1993-01-01           305            40.75000   \n",
       "4605354  4605355   20649 1961-01-01          3283            40.78125   \n",
       "\n",
       "         endstationlongitude                                 endstationname  \\\n",
       "0                   -74.0000                   MacDougal St & Washington Sq   \n",
       "1                   -74.0000                             Broadway & W 56 St   \n",
       "2                   -74.0000                      Bond St & Schermerhorn St   \n",
       "3                   -73.9375                        Eckford St & Engert Ave   \n",
       "4                   -74.0000                             Broadway & E 22 St   \n",
       "...                      ...                                            ...   \n",
       "4605350             -73.9375                             E 81 St & York Ave   \n",
       "4605351             -73.9375                                S 5 Pl & S 5 St   \n",
       "4605352             -73.9375  Central Park North & Adam Clayton Powell Blvd   \n",
       "4605353             -73.9375                                E 58 St & 3 Ave   \n",
       "4605354             -74.0000                         W 89 St & Columbus Ave   \n",
       "\n",
       "         gender  startstationid  startstationlatitude  startstationlongitude  \\\n",
       "0             1             312              40.71875               -74.0000   \n",
       "1             1             478              40.75000               -74.0000   \n",
       "2             1             237              40.71875               -74.0000   \n",
       "3             2            3090              40.71875               -73.9375   \n",
       "4             0             325              40.75000               -74.0000   \n",
       "...         ...             ...                   ...                    ...   \n",
       "4605350       1             515              40.75000               -74.0000   \n",
       "4605351       1            3093              40.71875               -73.9375   \n",
       "4605352       1            3496              40.78125               -73.9375   \n",
       "4605353       1            3671              40.78125               -73.9375   \n",
       "4605354       1            3301              40.78125               -73.9375   \n",
       "\n",
       "               startstationname               starttime  \\\n",
       "0         Allen St & Stanton St 2017-09-01 00:04:15.000   \n",
       "1              11 Ave & W 41 St 2017-09-01 00:06:19.000   \n",
       "2               E 11 St & 2 Ave 2017-09-01 00:07:34.000   \n",
       "3           N 8 St & Driggs Ave 2017-09-01 00:10:49.000   \n",
       "4               E 19 St & 3 Ave 2017-09-01 00:11:00.000   \n",
       "...                         ...                     ...   \n",
       "4605350        W 43 St & 10 Ave 2020-01-31 23:51:51.926   \n",
       "4605351    N 6 St & Bedford Ave 2020-01-31 23:51:56.901   \n",
       "4605352        1 Ave & E 110 St 2020-01-31 23:53:54.344   \n",
       "4605353         E 81 St & 2 Ave 2020-01-31 23:53:59.607   \n",
       "4605354  Columbus Ave & W 95 St 2020-01-31 23:59:03.351   \n",
       "\n",
       "                       stoptime  tripduration    usertype  \n",
       "0       2017-09-01 00:11:18.000           422  Subscriber  \n",
       "1       2017-09-01 00:17:09.000           650  Subscriber  \n",
       "2       2017-09-01 00:29:49.000          1334  Subscriber  \n",
       "3       2017-09-01 00:13:52.000           182  Subscriber  \n",
       "4       2017-09-01 00:15:39.000           278    Customer  \n",
       "...                         ...           ...         ...  \n",
       "4605350 2020-02-01 00:17:04.412          1512  Subscriber  \n",
       "4605351 2020-01-31 23:57:05.299           308  Subscriber  \n",
       "4605352 2020-01-31 23:59:52.961           358  Subscriber  \n",
       "4605353 2020-02-01 00:02:46.609           527  Subscriber  \n",
       "4605354 2020-02-01 00:01:01.866           118  Subscriber  \n",
       "\n",
       "[4605355 rows x 16 columns]"
      ]
     },
     "execution_count": 20,
     "metadata": {},
     "output_type": "execute_result"
    }
   ],
   "source": [
    "cb.drop(4455178, axis=0, inplace=True)\n",
    "cb.reset_index()"
   ]
  },
  {
   "cell_type": "markdown",
   "metadata": {},
   "source": [
    "Create csv file of cleaned and preprocessed dataset prior to feature engineering:"
   ]
  },
  {
   "cell_type": "code",
   "execution_count": 21,
   "metadata": {},
   "outputs": [],
   "source": [
    "cb.to_csv('../../data/02_processed/citibike_preprocessed.csv', index=False)"
   ]
  },
  {
   "cell_type": "markdown",
   "metadata": {},
   "source": [
    "### Create features"
   ]
  },
  {
   "cell_type": "markdown",
   "metadata": {},
   "source": [
    "Define helper function to calculate distance between coordinates:"
   ]
  },
  {
   "cell_type": "code",
   "execution_count": 22,
   "metadata": {},
   "outputs": [],
   "source": [
    "from pyproj import Geod\n",
    "\n",
    "def calc_vincenty_dist(lat1, lon1, lat2, lon2): \n",
    "    az12, az21, dist = Geod(ellps='WGS84').inv(lon1, lat1, lon2, lat2)\n",
    "    return dist"
   ]
  },
  {
   "cell_type": "code",
   "execution_count": 23,
   "metadata": {},
   "outputs": [],
   "source": [
    "# Haversine & inclination 29 degrees to True north\n",
    "# Credits: https://www.movable-type.co.uk/scripts/latlong.html,\n",
    "# https://gist.github.com/jkAtGitHub/8ae7da4d5dacb9969bff43500b5efbc0#file-manhattan_dist-py\n",
    "def calc_haversine_dist(lat1, lon1, lat2, lon2):\n",
    "    lat1, lat2, lon1, lon2 = np.radians(lat1), np.radians(lat2), np.radians(lon1), np.radians(lon2)\n",
    "    dlat, dlon = lat2 - lat1, lon2 - lon1\n",
    "    r = 3963 # Earth's radius in miles\n",
    "    \n",
    "    a = np.sin(dlat/2)**2 + np.cos(lat1) * np.cos(lat2) * np.sin(dlon/2)**2\n",
    "    c = 2 * np.arctan2(np.sqrt(a), np.sqrt(1-a)) \n",
    "    \n",
    "    total_dist = r * c\n",
    "    return total_dist\n",
    "\n",
    "def calc_manh_disth(lat1, lon1, lat2, lon2):\n",
    "    start = np.stack([lat1, lon1], axis=1)\n",
    "    end = np.stack([lat2, lon2], axis=1)\n",
    "    \n",
    "    theta1, theta2 = np.radians(-28.904), np.radians(28.904)\n",
    "    rmat1 = np.array([[np.cos(theta1), np.sin(theta1)], \n",
    "                      [-np.sin(theta1), np.cos(theta1)]])\n",
    "    rmat2 = np.array([[np.cos(theta2), np.sin(theta2)], \n",
    "                      [-np.sin(theta2), np.cos(theta2)]])\n",
    "    \n",
    "    start_rot = rmat1 @ start.T\n",
    "    end_rot = rmat1 @ end.T\n",
    "    \n",
    "    hinge = np.stack((start_rot[0,:], end_rot[1,:]))\n",
    "    hinge_coords = rmat2 @ hinge\n",
    "    \n",
    "    manh_dist = calc_haversine_dist(start.T[0], start.T[1], hinge_coords[0], hinge_coords[1]) + calc_haversine_dist(hinge_coords[0], hinge_coords[1], end.T[0], end.T[1])\n",
    "    return manh_dist\n",
    "\n",
    "# Unused functions -----------------------------------------------\n",
    "# # Cartesian Coordinate system, output in latlong dist\n",
    "# def calc_manh_distc(lat, lon):\n",
    "#     return sum(abs(lat_i-lat_j) for lat_i, lat_j in zip(lat, lon))"
   ]
  },
  {
   "cell_type": "markdown",
   "metadata": {},
   "source": [
    "Create new features, `vicentydistance` and `manhdistance` (both in miles):"
   ]
  },
  {
   "cell_type": "code",
   "execution_count": 24,
   "metadata": {},
   "outputs": [],
   "source": [
    "cb['vicentydistance'] = calc_vincenty_dist(cb.startstationlatitude.tolist(), \n",
    "                                        cb.startstationlongitude.tolist(),\n",
    "                                        cb.endstationlatitude.tolist(),\n",
    "                                        cb.endstationlongitude.tolist())\n",
    "cb['vicentydistance'] = cb['vicentydistance'].apply(lambda x: x*0.000621371).astype('float16') # Convert from meters to miles"
   ]
  },
  {
   "cell_type": "code",
   "execution_count": 25,
   "metadata": {},
   "outputs": [],
   "source": [
    "cb['manhdistance'] = calc_manh_disth(cb.startstationlatitude,\n",
    "                                     cb.startstationlongitude,\n",
    "                                     cb.endstationlatitude,\n",
    "                                     cb.endstationlongitude).astype('float16')"
   ]
  },
  {
   "cell_type": "markdown",
   "metadata": {},
   "source": [
    "Create new features, `startmonth` and `endmonth`:"
   ]
  },
  {
   "cell_type": "code",
   "execution_count": 26,
   "metadata": {},
   "outputs": [],
   "source": [
    "cb['startmonth'] = cb['starttime'].dt.month.astype('int16')\n",
    "cb['stopmonth'] = cb['stoptime'].dt.month.astype('int16')"
   ]
  },
  {
   "cell_type": "markdown",
   "metadata": {},
   "source": [
    "Create new features for days of week, `startdayname` and `enddayname` (along with their numerical codes):"
   ]
  },
  {
   "cell_type": "code",
   "execution_count": 27,
   "metadata": {},
   "outputs": [],
   "source": [
    "cb['startdayname'] = cb['starttime'].dt.day_name().astype('category')\n",
    "cb['startday'] = cb['starttime'].dt.dayofweek.astype('int16')\n",
    "cb['stopdayname'] = cb['stoptime'].dt.day_name().astype('category')\n",
    "cb['stopday'] = cb['stoptime'].dt.dayofweek.astype('int16')"
   ]
  },
  {
   "cell_type": "code",
   "execution_count": 28,
   "metadata": {},
   "outputs": [],
   "source": [
    "# def trip_day(df):\n",
    "#     start_temp = pd.DataFrame({'startday': df['startdayofweek'].tolist(), 'code': df['startdayofweek_code'].tolist()})\n",
    "#     end_temp = pd.DataFrame({'endday': df['enddayofweek'].tolist(), 'code': df['enddayofweek_code'].tolist()})\n",
    "#     return pd.merge(start_temp, end_temp, left_on='startday', right_on='endday')\n",
    "\n",
    "# start_temp = pd.DataFrame({'day': cb['startdayofweek'].tolist(), 'code': cb['startdayofweek_code'].tolist()})\n",
    "# end_temp = pd.DataFrame({'day': cb['enddayofweek'].tolist(), 'code': cb['enddayofweek_code'].tolist()})\n",
    "\n",
    "# df_list = [start_temp, end_temp]\n",
    "# for df in df_list:\n",
    "#     df.set_index(['day'], inplace=True)\n",
    "\n",
    "# df = pd.concat(df_list, axis=1) # join='inner'\n",
    "# df.reset_index(inplace=True)"
   ]
  },
  {
   "cell_type": "markdown",
   "metadata": {},
   "source": [
    "Create new features, `starthour` and `endhour`:"
   ]
  },
  {
   "cell_type": "code",
   "execution_count": 29,
   "metadata": {},
   "outputs": [],
   "source": [
    "cb['starthour'] = cb['starttime'].dt.hour.astype('int16')\n",
    "cb['endhour'] = cb['stoptime'].dt.hour.astype('int16')"
   ]
  },
  {
   "cell_type": "markdown",
   "metadata": {},
   "source": [
    "Create new features, `startboro` and `endboro`:"
   ]
  },
  {
   "cell_type": "code",
   "execution_count": 30,
   "metadata": {},
   "outputs": [],
   "source": [
    "import geopandas as gpd\n",
    "import geopy\n",
    "from geopy.geocoders import Nominatim\n",
    "from geopy.extra.rate_limiter import RateLimiter\n",
    "from tqdm._tqdm_notebook import tqdm_notebook"
   ]
  },
  {
   "cell_type": "code",
   "execution_count": 31,
   "metadata": {},
   "outputs": [],
   "source": [
    "coords_df = pd.DataFrame({'startcoords': zip(cb.startstationlatitude, cb.startstationlongitude), \n",
    "              'endcoords': zip(cb.endstationlatitude, cb.endstationlongitude)})"
   ]
  },
  {
   "cell_type": "code",
   "execution_count": 32,
   "metadata": {},
   "outputs": [],
   "source": [
    "geolocator = Nominatim(user_agent='myGeocoder')"
   ]
  },
  {
   "cell_type": "code",
   "execution_count": 33,
   "metadata": {},
   "outputs": [],
   "source": [
    "loc_dict = geolocator.reverse(coords_df.startcoords[0]).raw"
   ]
  },
  {
   "cell_type": "code",
   "execution_count": 34,
   "metadata": {},
   "outputs": [],
   "source": [
    "# coords_df.apply(lambda x: geolocator.reverse(x.startcoords), axis=1).suburb"
   ]
  },
  {
   "cell_type": "code",
   "execution_count": 35,
   "metadata": {},
   "outputs": [],
   "source": [
    "# find_location(coords_df.startcoords)"
   ]
  },
  {
   "cell_type": "markdown",
   "metadata": {},
   "source": [
    "Create new features, `startneighborhood` and `endneighborhood`:"
   ]
  },
  {
   "cell_type": "code",
   "execution_count": null,
   "metadata": {},
   "outputs": [],
   "source": []
  },
  {
   "cell_type": "markdown",
   "metadata": {},
   "source": [
    "Create new feature, `uniquetripid`:"
   ]
  },
  {
   "cell_type": "code",
   "execution_count": null,
   "metadata": {},
   "outputs": [],
   "source": []
  },
  {
   "cell_type": "markdown",
   "metadata": {},
   "source": [
    "### Final check\n",
    "\n",
    "Inspect memory:"
   ]
  },
  {
   "cell_type": "code",
   "execution_count": 36,
   "metadata": {},
   "outputs": [
    {
     "name": "stdout",
     "output_type": "stream",
     "text": [
      "<class 'pandas.core.frame.DataFrame'>\n",
      "Int64Index: 4605355 entries, 0 to 4605355\n",
      "Data columns (total 25 columns):\n",
      "bikeid                   int16\n",
      "birthyear                datetime64[ns]\n",
      "endstationid             int16\n",
      "endstationlatitude       float16\n",
      "endstationlongitude      float16\n",
      "endstationname           category\n",
      "gender                   int64\n",
      "startstationid           int16\n",
      "startstationlatitude     float16\n",
      "startstationlongitude    float16\n",
      "startstationname         category\n",
      "starttime                datetime64[ns]\n",
      "stoptime                 datetime64[ns]\n",
      "tripduration             int16\n",
      "usertype                 category\n",
      "vicentydistance          float16\n",
      "manhdistance             float16\n",
      "startmonth               int16\n",
      "stopmonth                int16\n",
      "startdayname             category\n",
      "startday                 int16\n",
      "stopdayname              category\n",
      "stopday                  int16\n",
      "starthour                int16\n",
      "endhour                  int16\n",
      "dtypes: category(5), datetime64[ns](3), float16(6), int16(10), int64(1)\n",
      "memory usage: 347.1 MB\n"
     ]
    }
   ],
   "source": [
    "cb.info()"
   ]
  },
  {
   "cell_type": "markdown",
   "metadata": {},
   "source": [
    "Create csv file of feature engineering citibike dataset:"
   ]
  },
  {
   "cell_type": "code",
   "execution_count": 37,
   "metadata": {},
   "outputs": [],
   "source": [
    "# cb.to_csv('../../data/01_processed/citibike_feature_engineered.csv', index=False)"
   ]
  },
  {
   "cell_type": "markdown",
   "metadata": {},
   "source": [
    "## Inspect data"
   ]
  },
  {
   "cell_type": "markdown",
   "metadata": {},
   "source": [
    "STUFF TO FIX:"
   ]
  },
  {
   "cell_type": "code",
   "execution_count": 38,
   "metadata": {},
   "outputs": [
    {
     "data": {
      "text/plain": [
       "15591"
      ]
     },
     "execution_count": 38,
     "metadata": {},
     "output_type": "execute_result"
    }
   ],
   "source": [
    "#need to fix ride discrepencies here before proceeding with using day of week EDA seriously\n",
    "len(cb.startday)-(cb.startday==cb.stopday).sum()"
   ]
  },
  {
   "cell_type": "code",
   "execution_count": 39,
   "metadata": {},
   "outputs": [
    {
     "data": {
      "text/plain": [
       "2    729241\n",
       "3    709433\n",
       "1    705587\n",
       "4    690097\n",
       "0    662797\n",
       "5    575780\n",
       "6    532420\n",
       "Name: startday, dtype: int64"
      ]
     },
     "execution_count": 39,
     "metadata": {},
     "output_type": "execute_result"
    }
   ],
   "source": [
    "cb.startday.value_counts()"
   ]
  },
  {
   "cell_type": "markdown",
   "metadata": {},
   "source": [
    "Inspect number of rides per day:"
   ]
  },
  {
   "cell_type": "code",
   "execution_count": 40,
   "metadata": {},
   "outputs": [
    {
     "data": {
      "image/png": "[encoded data removed]",
      "text/plain": [
       "<Figure size 432x288 with 1 Axes>"
      ]
     },
     "metadata": {
      "needs_background": "light"
     },
     "output_type": "display_data"
    }
   ],
   "source": [
    "x=cb.startday.value_counts().index\n",
    "y=cb.startday.value_counts()/(343) #divide by number of weeks to get mean rides per day\n",
    "plt.scatter(x, y, alpha=0.5)\n",
    "plt.xlabel('Day of Week')\n",
    "plt.ylabel('Number of Rides')\n",
    "plt.title('Number of Rides by Day')\n",
    "plt.show()"
   ]
  },
  {
   "cell_type": "markdown",
   "metadata": {},
   "source": [
    "Inspect number of rides per hour:"
   ]
  },
  {
   "cell_type": "code",
   "execution_count": 41,
   "metadata": {},
   "outputs": [
    {
     "data": {
      "image/png": "[encoded data removed]",
      "text/plain": [
       "<Figure size 432x288 with 1 Axes>"
      ]
     },
     "metadata": {
      "needs_background": "light"
     },
     "output_type": "display_data"
    }
   ],
   "source": [
    "x=cb.starthour.value_counts().index\n",
    "y=cb.starthour.value_counts()\n",
    "plt.scatter(x, y, alpha=0.5)\n",
    "plt.xlabel('Hour of Day')\n",
    "plt.ylabel('Number of Rides')\n",
    "plt.title('Number of Rides by Hour')\n",
    "plt.show()"
   ]
  },
  {
   "cell_type": "markdown",
   "metadata": {},
   "source": [
    "Inspect number of rides per month:"
   ]
  },
  {
   "cell_type": "code",
   "execution_count": 42,
   "metadata": {},
   "outputs": [],
   "source": [
    "index=[1,7,8,9,10,11,12]\n",
    "#y[index] = y[index]*(6/7) #to fix over sampling from Jan 2020 and July-December 2013\n",
    "y = y.round().astype('int32')"
   ]
  },
  {
   "cell_type": "code",
   "execution_count": 43,
   "metadata": {},
   "outputs": [
    {
     "data": {
      "image/png": "[encoded data removed]",
      "text/plain": [
       "<Figure size 432x288 with 1 Axes>"
      ]
     },
     "metadata": {
      "needs_background": "light"
     },
     "output_type": "display_data"
    }
   ],
   "source": [
    "#ad-hocly adjusted for the oversampling of Jan, July-December months \n",
    "plt.scatter(x, y, alpha=0.5)\n",
    "plt.xlabel('Month of Year')\n",
    "plt.ylabel('Number of Rides')\n",
    "plt.title('Number of Rides by Month')\n",
    "plt.show()"
   ]
  },
  {
   "cell_type": "markdown",
   "metadata": {},
   "source": [
    "Inspect `vicentydistance` by month:"
   ]
  },
  {
   "cell_type": "code",
   "execution_count": 44,
   "metadata": {},
   "outputs": [
    {
     "name": "stderr",
     "output_type": "stream",
     "text": [
      "/opt/anaconda3/lib/python3.7/site-packages/ipykernel_launcher.py:7: UserWarning:\n",
      "\n",
      "To output multiple subplots, the figure containing the passed axes is being cleared\n",
      "\n"
     ]
    },
    {
     "data": {
      "image/png": "[encoded data removed]",
      "text/plain": [
       "<Figure size 720x576 with 12 Axes>"
      ]
     },
     "metadata": {
      "needs_background": "light"
     },
     "output_type": "display_data"
    }
   ],
   "source": [
    "#adjusted for ease of interpretation\n",
    "x=cb['vicentydistance'].sort_values(ascending=False).index\n",
    "y=cb['vicentydistance'].sort_values(ascending=False)\n",
    "\n",
    "fig, ax = plt.subplots(figsize=(10,8))\n",
    "plt.suptitle('')\n",
    "cb.groupby('startmonth').boxplot(column=['vicentydistance'], by='startmonth', ax=ax)\n",
    "plt.show()"
   ]
  }
 ],
 "metadata": {
  "kernelspec": {
   "display_name": "Python 3",
   "language": "python",
   "name": "python3"
  },
  "language_info": {
   "codemirror_mode": {
    "name": "ipython",
    "version": 3
   },
   "file_extension": ".py",
   "mimetype": "text/x-python",
   "name": "python",
   "nbconvert_exporter": "python",
   "pygments_lexer": "ipython3",
   "version": "3.7.4"
  }
 },
 "nbformat": 4,
 "nbformat_minor": 2
}
