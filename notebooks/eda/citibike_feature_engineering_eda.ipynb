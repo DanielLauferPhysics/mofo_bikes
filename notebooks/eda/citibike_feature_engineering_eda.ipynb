{
 "cells": [
  {
   "cell_type": "markdown",
   "metadata": {},
   "source": [
    "# Preprocessed Citibike Data: Exploratory Data Analysis"
   ]
  },
  {
   "cell_type": "markdown",
   "metadata": {},
   "source": [
    "## Import libraries"
   ]
  },
  {
   "cell_type": "code",
   "execution_count": 2,
   "metadata": {},
   "outputs": [],
   "source": [
    "import numpy as np\n",
    "import pandas as pd\n",
    "import datetime as dt\n",
    "from pandas.api.types import CategoricalDtype\n",
    "import seaborn as sns\n",
    "import matplotlib.pyplot as plt\n",
    "import plotly.graph_objects as go"
   ]
  },
  {
   "cell_type": "markdown",
   "metadata": {},
   "source": [
    "## Import and load data"
   ]
  },
  {
   "cell_type": "markdown",
   "metadata": {},
   "source": [
    "Import preprocessed data:"
   ]
  },
  {
   "cell_type": "code",
   "execution_count": 17,
   "metadata": {},
   "outputs": [],
   "source": [
    "cb_raw = pd.read_csv('../../data/02_processed/citibike_feature_engineered_final.csv', \n",
    "                     parse_dates=['birthyear','starttime', 'stoptime'])"
   ]
  },
  {
   "cell_type": "markdown",
   "metadata": {},
   "source": [
    "Make a copy: "
   ]
  },
  {
   "cell_type": "code",
   "execution_count": 18,
   "metadata": {},
   "outputs": [],
   "source": [
    "cb = cb_raw.copy()"
   ]
  },
  {
   "cell_type": "markdown",
   "metadata": {},
   "source": [
    "## Inspect data frame"
   ]
  },
  {
   "cell_type": "markdown",
   "metadata": {},
   "source": [
    "Get dimensions of data frame and datatypes of each feature:"
   ]
  },
  {
   "cell_type": "code",
   "execution_count": 19,
   "metadata": {},
   "outputs": [
    {
     "name": "stdout",
     "output_type": "stream",
     "text": [
      "<class 'pandas.core.frame.DataFrame'>\n",
      "RangeIndex: 4015035 entries, 0 to 4015034\n",
      "Data columns (total 37 columns):\n",
      "bikeid                   int64\n",
      "birthyear                datetime64[ns]\n",
      "endstationid             int64\n",
      "endstationlatitude       float64\n",
      "endstationlongitude      float64\n",
      "endstationname           object\n",
      "gender                   int64\n",
      "startstationid           int64\n",
      "startstationlatitude     float64\n",
      "startstationlongitude    float64\n",
      "startstationname         object\n",
      "starttime                datetime64[ns]\n",
      "stoptime                 datetime64[ns]\n",
      "tripduration             int64\n",
      "usertype                 object\n",
      "vicentydistance          float64\n",
      "manhdistance             float64\n",
      "startmonth               int64\n",
      "stopmonth                int64\n",
      "startdayname             object\n",
      "startday                 int64\n",
      "stopdayname              object\n",
      "stopday                  int64\n",
      "startdaytype             object\n",
      "enddaytype               object\n",
      "starthour                int64\n",
      "endhour                  int64\n",
      "startrushhour            object\n",
      "endrushhour              object\n",
      "starttimeofday           object\n",
      "endtimeofday             object\n",
      "age_at_ride              int64\n",
      "age_group                object\n",
      "startneighborhood        object\n",
      "endneighborhood          object\n",
      "startboro                object\n",
      "endboro                  object\n",
      "dtypes: datetime64[ns](3), float64(6), int64(12), object(16)\n",
      "memory usage: 1.1+ GB\n"
     ]
    }
   ],
   "source": [
    "cb.info()"
   ]
  },
  {
   "cell_type": "markdown",
   "metadata": {},
   "source": [
    "Randomly sample five observations:"
   ]
  },
  {
   "cell_type": "code",
   "execution_count": 20,
   "metadata": {},
   "outputs": [
    {
     "data": {
      "text/html": [
       "<div>\n",
       "<style scoped>\n",
       "    .dataframe tbody tr th:only-of-type {\n",
       "        vertical-align: middle;\n",
       "    }\n",
       "\n",
       "    .dataframe tbody tr th {\n",
       "        vertical-align: top;\n",
       "    }\n",
       "\n",
       "    .dataframe thead th {\n",
       "        text-align: right;\n",
       "    }\n",
       "</style>\n",
       "<table border=\"1\" class=\"dataframe\">\n",
       "  <thead>\n",
       "    <tr style=\"text-align: right;\">\n",
       "      <th></th>\n",
       "      <th>bikeid</th>\n",
       "      <th>birthyear</th>\n",
       "      <th>endstationid</th>\n",
       "      <th>endstationlatitude</th>\n",
       "      <th>endstationlongitude</th>\n",
       "      <th>endstationname</th>\n",
       "      <th>gender</th>\n",
       "      <th>startstationid</th>\n",
       "      <th>startstationlatitude</th>\n",
       "      <th>startstationlongitude</th>\n",
       "      <th>...</th>\n",
       "      <th>startrushhour</th>\n",
       "      <th>endrushhour</th>\n",
       "      <th>starttimeofday</th>\n",
       "      <th>endtimeofday</th>\n",
       "      <th>age_at_ride</th>\n",
       "      <th>age_group</th>\n",
       "      <th>startneighborhood</th>\n",
       "      <th>endneighborhood</th>\n",
       "      <th>startboro</th>\n",
       "      <th>endboro</th>\n",
       "    </tr>\n",
       "  </thead>\n",
       "  <tbody>\n",
       "    <tr>\n",
       "      <td>567448</td>\n",
       "      <td>22320</td>\n",
       "      <td>1988-01-01</td>\n",
       "      <td>529</td>\n",
       "      <td>40.757570</td>\n",
       "      <td>-73.990985</td>\n",
       "      <td>W 42 St &amp; 8 Ave</td>\n",
       "      <td>1</td>\n",
       "      <td>496</td>\n",
       "      <td>40.737262</td>\n",
       "      <td>-73.992390</td>\n",
       "      <td>...</td>\n",
       "      <td>Afternoon Rush</td>\n",
       "      <td>Afternoon Rush</td>\n",
       "      <td>Evening (5-7:59PM)</td>\n",
       "      <td>Evening (5-7:59PM)</td>\n",
       "      <td>28</td>\n",
       "      <td>20s</td>\n",
       "      <td>New York County</td>\n",
       "      <td>Theater District</td>\n",
       "      <td>Manhattan</td>\n",
       "      <td>Manhattan</td>\n",
       "    </tr>\n",
       "    <tr>\n",
       "      <td>2533843</td>\n",
       "      <td>28198</td>\n",
       "      <td>1986-01-01</td>\n",
       "      <td>3059</td>\n",
       "      <td>40.693398</td>\n",
       "      <td>-73.939877</td>\n",
       "      <td>Pulaski St &amp; Marcus Garvey Blvd</td>\n",
       "      <td>1</td>\n",
       "      <td>3064</td>\n",
       "      <td>40.696820</td>\n",
       "      <td>-73.937569</td>\n",
       "      <td>...</td>\n",
       "      <td>Afternoon Rush</td>\n",
       "      <td>Afternoon Rush</td>\n",
       "      <td>Afternoon (12PM-4:59PM)</td>\n",
       "      <td>Afternoon (12PM-4:59PM)</td>\n",
       "      <td>33</td>\n",
       "      <td>30s</td>\n",
       "      <td>Bedford-Stuyvesant</td>\n",
       "      <td>Bedford-Stuyvesant</td>\n",
       "      <td>Brooklyn</td>\n",
       "      <td>Brooklyn</td>\n",
       "    </tr>\n",
       "    <tr>\n",
       "      <td>3940442</td>\n",
       "      <td>31626</td>\n",
       "      <td>1986-01-01</td>\n",
       "      <td>3436</td>\n",
       "      <td>40.721319</td>\n",
       "      <td>-74.010065</td>\n",
       "      <td>Greenwich St &amp; Hubert St</td>\n",
       "      <td>1</td>\n",
       "      <td>3255</td>\n",
       "      <td>40.750585</td>\n",
       "      <td>-73.994685</td>\n",
       "      <td>...</td>\n",
       "      <td>Morning Rush</td>\n",
       "      <td>Morning Rush</td>\n",
       "      <td>Morning (6AM-11:59PM)</td>\n",
       "      <td>Morning (6AM-11:59PM)</td>\n",
       "      <td>31</td>\n",
       "      <td>30s</td>\n",
       "      <td>Chelsea</td>\n",
       "      <td>Tribeca</td>\n",
       "      <td>Manhattan</td>\n",
       "      <td>Manhattan</td>\n",
       "    </tr>\n",
       "    <tr>\n",
       "      <td>3229252</td>\n",
       "      <td>21079</td>\n",
       "      <td>1960-01-01</td>\n",
       "      <td>504</td>\n",
       "      <td>40.732219</td>\n",
       "      <td>-73.981656</td>\n",
       "      <td>1 Ave &amp; E 15 St</td>\n",
       "      <td>1</td>\n",
       "      <td>518</td>\n",
       "      <td>40.747804</td>\n",
       "      <td>-73.973442</td>\n",
       "      <td>...</td>\n",
       "      <td>Afternoon Off-Peak</td>\n",
       "      <td>Afternoon Off-Peak</td>\n",
       "      <td>Afternoon (12PM-4:59PM)</td>\n",
       "      <td>Afternoon (12PM-4:59PM)</td>\n",
       "      <td>55</td>\n",
       "      <td>50s</td>\n",
       "      <td>Murray Hill</td>\n",
       "      <td>Stuy Town</td>\n",
       "      <td>Queens</td>\n",
       "      <td>Manhattan</td>\n",
       "    </tr>\n",
       "    <tr>\n",
       "      <td>1528086</td>\n",
       "      <td>15042</td>\n",
       "      <td>1986-01-01</td>\n",
       "      <td>520</td>\n",
       "      <td>40.759923</td>\n",
       "      <td>-73.976485</td>\n",
       "      <td>W 52 St &amp; 5 Ave</td>\n",
       "      <td>1</td>\n",
       "      <td>72</td>\n",
       "      <td>40.767272</td>\n",
       "      <td>-73.993929</td>\n",
       "      <td>...</td>\n",
       "      <td>Afternoon Off-Peak</td>\n",
       "      <td>Afternoon Off-Peak</td>\n",
       "      <td>Morning (6AM-11:59PM)</td>\n",
       "      <td>Morning (6AM-11:59PM)</td>\n",
       "      <td>33</td>\n",
       "      <td>30s</td>\n",
       "      <td>Hell's Kitchen</td>\n",
       "      <td>Midtown</td>\n",
       "      <td>Manhattan</td>\n",
       "      <td>Manhattan</td>\n",
       "    </tr>\n",
       "  </tbody>\n",
       "</table>\n",
       "<p>5 rows × 37 columns</p>\n",
       "</div>"
      ],
      "text/plain": [
       "         bikeid  birthyear  endstationid  endstationlatitude  \\\n",
       "567448    22320 1988-01-01           529           40.757570   \n",
       "2533843   28198 1986-01-01          3059           40.693398   \n",
       "3940442   31626 1986-01-01          3436           40.721319   \n",
       "3229252   21079 1960-01-01           504           40.732219   \n",
       "1528086   15042 1986-01-01           520           40.759923   \n",
       "\n",
       "         endstationlongitude                   endstationname  gender  \\\n",
       "567448            -73.990985                  W 42 St & 8 Ave       1   \n",
       "2533843           -73.939877  Pulaski St & Marcus Garvey Blvd       1   \n",
       "3940442           -74.010065         Greenwich St & Hubert St       1   \n",
       "3229252           -73.981656                  1 Ave & E 15 St       1   \n",
       "1528086           -73.976485                  W 52 St & 5 Ave       1   \n",
       "\n",
       "         startstationid  startstationlatitude  startstationlongitude  ...  \\\n",
       "567448              496             40.737262             -73.992390  ...   \n",
       "2533843            3064             40.696820             -73.937569  ...   \n",
       "3940442            3255             40.750585             -73.994685  ...   \n",
       "3229252             518             40.747804             -73.973442  ...   \n",
       "1528086              72             40.767272             -73.993929  ...   \n",
       "\n",
       "              startrushhour         endrushhour           starttimeofday  \\\n",
       "567448       Afternoon Rush      Afternoon Rush       Evening (5-7:59PM)   \n",
       "2533843      Afternoon Rush      Afternoon Rush  Afternoon (12PM-4:59PM)   \n",
       "3940442        Morning Rush        Morning Rush    Morning (6AM-11:59PM)   \n",
       "3229252  Afternoon Off-Peak  Afternoon Off-Peak  Afternoon (12PM-4:59PM)   \n",
       "1528086  Afternoon Off-Peak  Afternoon Off-Peak    Morning (6AM-11:59PM)   \n",
       "\n",
       "                    endtimeofday age_at_ride  age_group   startneighborhood  \\\n",
       "567448        Evening (5-7:59PM)          28        20s     New York County   \n",
       "2533843  Afternoon (12PM-4:59PM)          33        30s  Bedford-Stuyvesant   \n",
       "3940442    Morning (6AM-11:59PM)          31        30s             Chelsea   \n",
       "3229252  Afternoon (12PM-4:59PM)          55        50s         Murray Hill   \n",
       "1528086    Morning (6AM-11:59PM)          33        30s      Hell's Kitchen   \n",
       "\n",
       "            endneighborhood  startboro    endboro  \n",
       "567448     Theater District  Manhattan  Manhattan  \n",
       "2533843  Bedford-Stuyvesant   Brooklyn   Brooklyn  \n",
       "3940442             Tribeca  Manhattan  Manhattan  \n",
       "3229252           Stuy Town     Queens  Manhattan  \n",
       "1528086             Midtown  Manhattan  Manhattan  \n",
       "\n",
       "[5 rows x 37 columns]"
      ]
     },
     "execution_count": 20,
     "metadata": {},
     "output_type": "execute_result"
    }
   ],
   "source": [
    "cb.sample(n=5)"
   ]
  },
  {
   "cell_type": "markdown",
   "metadata": {},
   "source": [
    "Check for missing values – there should be none:"
   ]
  },
  {
   "cell_type": "code",
   "execution_count": 21,
   "metadata": {},
   "outputs": [
    {
     "data": {
      "text/plain": [
       "bikeid                   0\n",
       "birthyear                0\n",
       "endstationid             0\n",
       "endstationlatitude       0\n",
       "endstationlongitude      0\n",
       "endstationname           0\n",
       "gender                   0\n",
       "startstationid           0\n",
       "startstationlatitude     0\n",
       "startstationlongitude    0\n",
       "startstationname         0\n",
       "starttime                0\n",
       "stoptime                 0\n",
       "tripduration             0\n",
       "usertype                 0\n",
       "vicentydistance          0\n",
       "manhdistance             0\n",
       "startmonth               0\n",
       "stopmonth                0\n",
       "startdayname             0\n",
       "startday                 0\n",
       "stopdayname              0\n",
       "stopday                  0\n",
       "startdaytype             0\n",
       "enddaytype               0\n",
       "starthour                0\n",
       "endhour                  0\n",
       "startrushhour            0\n",
       "endrushhour              0\n",
       "starttimeofday           0\n",
       "endtimeofday             0\n",
       "age_at_ride              0\n",
       "age_group                0\n",
       "startneighborhood        0\n",
       "endneighborhood          0\n",
       "startboro                0\n",
       "endboro                  0\n",
       "dtype: int64"
      ]
     },
     "execution_count": 21,
     "metadata": {},
     "output_type": "execute_result"
    }
   ],
   "source": [
    "cb.isnull().sum()"
   ]
  },
  {
   "cell_type": "markdown",
   "metadata": {},
   "source": [
    "## Data preprocessing"
   ]
  },
  {
   "cell_type": "markdown",
   "metadata": {},
   "source": [
    "### Define features"
   ]
  },
  {
   "cell_type": "markdown",
   "metadata": {},
   "source": [
    "Define numerical features:"
   ]
  },
  {
   "cell_type": "code",
   "execution_count": 22,
   "metadata": {},
   "outputs": [],
   "source": [
    "map_feat = ['endstationlatitude','endstationlongitude','startstationlatitude','startstationlongitude']\n",
    "datetime_feat = ['birthyear','starttime', 'stoptime']\n",
    "cont_feat = map_feat + datetime_feat + ['tripduration']"
   ]
  },
  {
   "cell_type": "markdown",
   "metadata": {},
   "source": [
    "Define categorical features:"
   ]
  },
  {
   "cell_type": "code",
   "execution_count": 23,
   "metadata": {},
   "outputs": [],
   "source": [
    "num_nom_feat = ['bikeid','endstationid','startstationid','gender','age_at_ride']\n",
    "cat_nom_feat = ['endstationname','startstationname','usertype',\n",
    "               'startneighborhood','startboro','endneighborhood','endboro',\n",
    "               'startdayname','stopdayname','startdaytype','enddaytype',\n",
    "               'startrushhour','endrushhour','starttimeofday','endtimeofday',\n",
    "               'age_group']\n",
    "nom_feat = num_nom_feat + cat_nom_feat"
   ]
  },
  {
   "cell_type": "markdown",
   "metadata": {},
   "source": [
    "### Perform datatype conversions"
   ]
  },
  {
   "cell_type": "markdown",
   "metadata": {},
   "source": [
    "Convert to datetime format:"
   ]
  },
  {
   "cell_type": "code",
   "execution_count": 24,
   "metadata": {},
   "outputs": [],
   "source": [
    "cb['birthyear'] = pd.to_datetime(cb.birthyear, format='%Y')"
   ]
  },
  {
   "cell_type": "markdown",
   "metadata": {},
   "source": [
    "Convert features to `float16` or `int16` to reduce memory:"
   ]
  },
  {
   "cell_type": "code",
   "execution_count": 25,
   "metadata": {},
   "outputs": [],
   "source": [
    "float_to_int = ['startstationid','endstationid','tripduration','bikeid','gender']\n",
    "\n",
    "cb[float_to_int] = cb[float_to_int].apply(lambda x: x.astype('int16'))"
   ]
  },
  {
   "cell_type": "code",
   "execution_count": 30,
   "metadata": {},
   "outputs": [],
   "source": [
    "int64_to_int16 = ['startmonth','stopmonth','stopday','starthour','endhour','age_at_ride']\n",
    "\n",
    "cb[int64_to_int16] = cb[int64_to_int16].apply(lambda x: x.astype('int16'))"
   ]
  },
  {
   "cell_type": "markdown",
   "metadata": {},
   "source": [
    "Convert untreated nominal features to categorical datatype to reduce memory:"
   ]
  },
  {
   "cell_type": "code",
   "execution_count": 26,
   "metadata": {},
   "outputs": [],
   "source": [
    "cb[cat_nom_feat] = cb[cat_nom_feat].apply(lambda x: x.astype('category'))"
   ]
  },
  {
   "cell_type": "code",
   "execution_count": 28,
   "metadata": {},
   "outputs": [],
   "source": [
    "cb['vicentydistance'] = cb['vicentydistance'].astype('float16')\n",
    "cb['manhdistance'] = cb['manhdistance'].astype('float16')"
   ]
  },
  {
   "cell_type": "markdown",
   "metadata": {},
   "source": [
    "Check for successful datatype conversion and reduction in memory:"
   ]
  },
  {
   "cell_type": "code",
   "execution_count": 31,
   "metadata": {
    "scrolled": true
   },
   "outputs": [
    {
     "name": "stdout",
     "output_type": "stream",
     "text": [
      "<class 'pandas.core.frame.DataFrame'>\n",
      "RangeIndex: 4015035 entries, 0 to 4015034\n",
      "Data columns (total 37 columns):\n",
      "bikeid                   int16\n",
      "birthyear                datetime64[ns]\n",
      "endstationid             int16\n",
      "endstationlatitude       float64\n",
      "endstationlongitude      float64\n",
      "endstationname           category\n",
      "gender                   int16\n",
      "startstationid           int16\n",
      "startstationlatitude     float64\n",
      "startstationlongitude    float64\n",
      "startstationname         category\n",
      "starttime                datetime64[ns]\n",
      "stoptime                 datetime64[ns]\n",
      "tripduration             int16\n",
      "usertype                 category\n",
      "vicentydistance          float16\n",
      "manhdistance             float16\n",
      "startmonth               int16\n",
      "stopmonth                int16\n",
      "startdayname             category\n",
      "startday                 int64\n",
      "stopdayname              category\n",
      "stopday                  int16\n",
      "startdaytype             category\n",
      "enddaytype               category\n",
      "starthour                int16\n",
      "endhour                  int16\n",
      "startrushhour            category\n",
      "endrushhour              category\n",
      "starttimeofday           category\n",
      "endtimeofday             category\n",
      "age_at_ride              int16\n",
      "age_group                category\n",
      "startneighborhood        category\n",
      "endneighborhood          category\n",
      "startboro                category\n",
      "endboro                  category\n",
      "dtypes: category(16), datetime64[ns](3), float16(2), float64(4), int16(11), int64(1)\n",
      "memory usage: 413.6 MB\n"
     ]
    }
   ],
   "source": [
    "cb.info()"
   ]
  },
  {
   "cell_type": "markdown",
   "metadata": {},
   "source": [
    "## Inspect data"
   ]
  },
  {
   "cell_type": "markdown",
   "metadata": {},
   "source": [
    "### Demographics: Age, Gender, and User Type"
   ]
  },
  {
   "cell_type": "markdown",
   "metadata": {},
   "source": [
    "The following graphs depict `Proportion of Rides` by rider demographics:"
   ]
  },
  {
   "cell_type": "code",
   "execution_count": 32,
   "metadata": {},
   "outputs": [
    {
     "data": {
      "image/png": "[encoded data removed]",
      "text/plain": [
       "<Figure size 432x288 with 1 Axes>"
      ]
     },
     "metadata": {
      "needs_background": "light"
     },
     "output_type": "display_data"
    }
   ],
   "source": [
    "rides_by_age = cb.pivot_table('bikeid', index='age_group', aggfunc=len, fill_value=0).div(len(cb.index)).mul(100)\n",
    "rides_by_age.columns = (['Proportion of Rides'])\n",
    "rides_by_age.sort_values(ascending=True, by='Proportion of Rides').plot(kind='barh')\n",
    "plt.title('Proportion of Rides by Age Group')\n",
    "plt.ylabel('Age Group')\n",
    "plt.xlabel('Proportion of Rides')\n",
    "plt.show();"
   ]
  },
  {
   "cell_type": "code",
   "execution_count": 33,
   "metadata": {},
   "outputs": [
    {
     "data": {
      "image/png": "[encoded data removed]",
      "text/plain": [
       "<Figure size 432x288 with 1 Axes>"
      ]
     },
     "metadata": {
      "needs_background": "light"
     },
     "output_type": "display_data"
    }
   ],
   "source": [
    "rides_by_gender = cb.pivot_table('bikeid', index='gender', aggfunc=len, fill_value=0).div(len(cb.index)).mul(100)\n",
    "rides_by_gender.columns = (['Proportion of Rides'])\n",
    "rides_by_gender.index = (['Unknown','Male','Female'])\n",
    "rides_by_gender.sort_values(ascending=True, by='Proportion of Rides').plot(kind='barh')\n",
    "plt.title('Proportion of Rides by Gender')\n",
    "plt.ylabel('Gender')\n",
    "plt.xlabel('Proportion of Rides')\n",
    "plt.show();"
   ]
  },
  {
   "cell_type": "code",
   "execution_count": 34,
   "metadata": {},
   "outputs": [
    {
     "data": {
      "image/png": "[encoded data removed]",
      "text/plain": [
       "<Figure size 432x288 with 1 Axes>"
      ]
     },
     "metadata": {
      "needs_background": "light"
     },
     "output_type": "display_data"
    }
   ],
   "source": [
    "rides_by_usertype = cb.pivot_table('bikeid', index='usertype', aggfunc=len, fill_value=0).div(len(cb.index)).mul(100)\n",
    "rides_by_usertype.columns = (['Proportion of Rides'])\n",
    "rides_by_usertype\n",
    "rides_by_usertype.sort_values(ascending=True, by='Proportion of Rides').plot(kind='barh')\n",
    "plt.title('Proportion of Rides by User Type')\n",
    "plt.ylabel('User Type')\n",
    "plt.xlabel('Proportion of Rides')\n",
    "plt.show();"
   ]
  },
  {
   "cell_type": "code",
   "execution_count": 35,
   "metadata": {},
   "outputs": [
    {
     "data": {
      "image/png": "[encoded data removed]",
      "text/plain": [
       "<Figure size 432x288 with 1 Axes>"
      ]
     },
     "metadata": {
      "needs_background": "light"
     },
     "output_type": "display_data"
    }
   ],
   "source": [
    "rides_by_gender_age = cb.pivot_table('bikeid', index='gender', columns='age_group', aggfunc=len, fill_value=0).div(len(cb.index)).mul(100)\n",
    "rides_by_gender_age.index = (['Unknown', 'Male', 'Female'])\n",
    "rides_by_gender_age.plot(kind='bar')\n",
    "plt.title('Proportion of Rides by Gender and Age Group')\n",
    "plt.ylabel('Proportion of Rides')\n",
    "plt.xlabel('Gender')\n",
    "plt.show();"
   ]
  },
  {
   "cell_type": "markdown",
   "metadata": {},
   "source": [
    "The following graphs depict `Trip Distance` and `Trip Duration` by rider demographics:"
   ]
  },
  {
   "cell_type": "code",
   "execution_count": 36,
   "metadata": {},
   "outputs": [
    {
     "data": {
      "image/png": "[encoded data removed]",
      "text/plain": [
       "<Figure size 432x288 with 1 Axes>"
      ]
     },
     "metadata": {
      "needs_background": "light"
     },
     "output_type": "display_data"
    }
   ],
   "source": [
    "manhdist_by_usertype_gender = cb.pivot_table('manhdistance', index='usertype', columns='gender')\n",
    "manhdist_by_usertype_gender.columns = (['Unknown','Male','Female'])\n",
    "manhdist_by_usertype_gender.plot(kind='bar')\n",
    "plt.title('Trip Distance by User Type and Gender')\n",
    "plt.xlabel('User Type')\n",
    "plt.ylabel('Manhattan Distance in Miles')\n",
    "plt.show();"
   ]
  },
  {
   "cell_type": "code",
   "execution_count": 37,
   "metadata": {
    "scrolled": true
   },
   "outputs": [
    {
     "data": {
      "image/png": "[encoded data removed]",
      "text/plain": [
       "<Figure size 432x288 with 1 Axes>"
      ]
     },
     "metadata": {
      "needs_background": "light"
     },
     "output_type": "display_data"
    }
   ],
   "source": [
    "tripduration_by_usertype_gender = cb.pivot_table('tripduration', index='usertype', columns='gender')\n",
    "tripduration_by_usertype_gender.columns = (['Unknown','Male','Female'])\n",
    "tripduration_by_usertype_gender.plot(kind='bar')\n",
    "plt.title('Trip Duration by User Type and Gender')\n",
    "plt.xlabel('User Type')\n",
    "plt.ylabel('Trip Duration')\n",
    "plt.show();"
   ]
  },
  {
   "cell_type": "markdown",
   "metadata": {},
   "source": [
    "### Geography: Neighborhoods, Boroughs, and Station Locations"
   ]
  },
  {
   "cell_type": "code",
   "execution_count": null,
   "metadata": {},
   "outputs": [],
   "source": [
    "# cb.pivot_table('manhdistance', index='starthou', columns='startneighborhood')\n",
    "pd.DataFrame(cb.groupby(['startneighborhood'])['starthour'].value_counts()\n",
    "# tripduration_by_usertype_gender.columns = (['Unknown','Male','Female'])\n",
    "# tripduration_by_usertype_gender.plot(kind='bar')\n",
    "# plt.title('Trip Duration by User Type and Gender')\n",
    "# plt.xlabel('User Type')\n",
    "# plt.ylabel('Trip Duration')\n",
    "# plt.show();"
   ]
  },
  {
   "cell_type": "markdown",
   "metadata": {},
   "source": [
    "### Rides: Number of Rides, Trip Distance, Trip Duration"
   ]
  },
  {
   "cell_type": "markdown",
   "metadata": {},
   "source": [
    "Inspect number of rides per day:"
   ]
  },
  {
   "cell_type": "code",
   "execution_count": 38,
   "metadata": {},
   "outputs": [
    {
     "data": {
      "image/png": "[encoded data removed]",
      "text/plain": [
       "<Figure size 432x288 with 1 Axes>"
      ]
     },
     "metadata": {
      "needs_background": "light"
     },
     "output_type": "display_data"
    }
   ],
   "source": [
    "x=cb.startday.value_counts().index\n",
    "y=cb.startday.value_counts()/(343) #divide by number of weeks to get mean rides per day\n",
    "plt.scatter(x, y, alpha=0.5)\n",
    "plt.xlabel('Day of Week')\n",
    "plt.ylabel('Number of Rides')\n",
    "plt.title('Number of Rides by Day')\n",
    "plt.show()"
   ]
  },
  {
   "cell_type": "markdown",
   "metadata": {},
   "source": [
    "Inspect number of rides per hour:"
   ]
  },
  {
   "cell_type": "code",
   "execution_count": 39,
   "metadata": {},
   "outputs": [
    {
     "data": {
      "image/png": "[encoded data removed]",
      "text/plain": [
       "<Figure size 432x288 with 1 Axes>"
      ]
     },
     "metadata": {
      "needs_background": "light"
     },
     "output_type": "display_data"
    }
   ],
   "source": [
    "x=cb.starthour.value_counts().index\n",
    "y=cb.starthour.value_counts()\n",
    "plt.scatter(x, y, alpha=0.5)\n",
    "plt.xlabel('Hour of Day')\n",
    "plt.ylabel('Number of Rides')\n",
    "plt.title('Number of Rides by Hour')\n",
    "plt.show()"
   ]
  },
  {
   "cell_type": "markdown",
   "metadata": {},
   "source": [
    "Inspect number of rides per month:"
   ]
  },
  {
   "cell_type": "code",
   "execution_count": 40,
   "metadata": {},
   "outputs": [],
   "source": [
    "index=[1,7,8,9,10,11,12]\n",
    "#y[index] = y[index]*(6/7) #to fix over sampling from Jan 2020 and July-December 2013\n",
    "y = y.round().astype('int32')"
   ]
  },
  {
   "cell_type": "code",
   "execution_count": 41,
   "metadata": {},
   "outputs": [
    {
     "data": {
      "image/png": "[encoded data removed]",
      "text/plain": [
       "<Figure size 432x288 with 1 Axes>"
      ]
     },
     "metadata": {
      "needs_background": "light"
     },
     "output_type": "display_data"
    }
   ],
   "source": [
    "#ad-hocly adjusted for the oversampling of Jan, July-December months \n",
    "plt.scatter(x, y, alpha=0.5)\n",
    "plt.xlabel('Month of Year')\n",
    "plt.ylabel('Number of Rides')\n",
    "plt.title('Number of Rides by Month')\n",
    "plt.show()"
   ]
  },
  {
   "cell_type": "markdown",
   "metadata": {},
   "source": [
    "Inspect `vicentydistance` by month:"
   ]
  },
  {
   "cell_type": "code",
   "execution_count": 42,
   "metadata": {},
   "outputs": [
    {
     "name": "stderr",
     "output_type": "stream",
     "text": [
      "/opt/anaconda3/lib/python3.7/site-packages/ipykernel_launcher.py:7: UserWarning:\n",
      "\n",
      "To output multiple subplots, the figure containing the passed axes is being cleared\n",
      "\n"
     ]
    },
    {
     "data": {
      "image/png": "[encoded data removed]",
      "text/plain": [
       "<Figure size 720x576 with 12 Axes>"
      ]
     },
     "metadata": {
      "needs_background": "light"
     },
     "output_type": "display_data"
    }
   ],
   "source": [
    "#adjusted for ease of interpretation\n",
    "x=cb['vicentydistance'].sort_values(ascending=False).index\n",
    "y=cb['vicentydistance'].sort_values(ascending=False)\n",
    "\n",
    "fig, ax = plt.subplots(figsize=(10,8))\n",
    "plt.suptitle('')\n",
    "cb.groupby('startmonth').boxplot(column=['vicentydistance'], by='startmonth', ax=ax)\n",
    "plt.show()"
   ]
  },
  {
   "cell_type": "markdown",
   "metadata": {},
   "source": [
    "## Appendix"
   ]
  },
  {
   "cell_type": "markdown",
   "metadata": {},
   "source": [
    "### Identifying unique trips"
   ]
  },
  {
   "cell_type": "markdown",
   "metadata": {},
   "source": [
    "Create new feature, `uniquetripid`:"
   ]
  },
  {
   "cell_type": "code",
   "execution_count": 43,
   "metadata": {},
   "outputs": [
    {
     "name": "stderr",
     "output_type": "stream",
     "text": [
      "/opt/anaconda3/lib/python3.7/site-packages/ipykernel_launcher.py:2: SettingWithCopyWarning:\n",
      "\n",
      "\n",
      "A value is trying to be set on a copy of a slice from a DataFrame.\n",
      "Try using .loc[row_indexer,col_indexer] = value instead\n",
      "\n",
      "See the caveats in the documentation: http://pandas.pydata.org/pandas-docs/stable/user_guide/indexing.html#returning-a-view-versus-a-copy\n",
      "\n"
     ]
    }
   ],
   "source": [
    "cb_filtered = cb[cb['birthyear'].dt.year.astype('int16') > 1920]\n",
    "cb_filtered['birthyear'] = cb_filtered['birthyear'].dt.year.astype('int16')"
   ]
  },
  {
   "cell_type": "code",
   "execution_count": 44,
   "metadata": {},
   "outputs": [
    {
     "data": {
      "text/plain": [
       "birthyear  gender  usertype    startstationid  starttime                startneighborhood   \n",
       "1921       1       Subscriber  116             2016-07-20 17:06:09.000  Chelsea                 1\n",
       "                                               2016-08-24 17:10:05.000  Chelsea                 1\n",
       "                               160             2014-05-18 00:48:37.000  Murray Hill             1\n",
       "                               217             2013-06-25 19:56:56.000  DUMBO                   1\n",
       "                               228             2014-09-02 19:25:14.000  Turtle Bay              1\n",
       "                                                                                               ..\n",
       "2003       2       Subscriber  3361            2020-01-06 18:25:57.369  Park Slope              1\n",
       "                               3377            2019-12-31 23:46:46.006  Gowanus                 1\n",
       "                               3398            2019-08-30 18:46:54.397  Kings County            1\n",
       "                               3686            2019-11-01 19:24:49.598  Meatpacking District    1\n",
       "                               3718            2019-07-31 20:52:04.086  East Village            1\n",
       "Length: 3719713, dtype: int64"
      ]
     },
     "execution_count": 44,
     "metadata": {},
     "output_type": "execute_result"
    }
   ],
   "source": [
    "cb_filtered.groupby(['birthyear','gender','usertype','startstationid','starttime','startneighborhood']).size()"
   ]
  },
  {
   "cell_type": "code",
   "execution_count": 45,
   "metadata": {},
   "outputs": [
    {
     "data": {
      "text/plain": [
       "startneighborhood  startstationid  starttime                usertype    birthyear  gender\n",
       "Alphabet City      150             2013-06-01 10:59:18.000  Subscriber  1970       1         1\n",
       "                                   2013-06-01 12:27:32.000  Subscriber  1986       1         1\n",
       "                                   2013-06-01 13:58:19.000  Subscriber  1982       1         1\n",
       "                                   2013-06-02 13:56:50.000  Subscriber  1983       1         1\n",
       "                                   2013-06-02 14:40:22.000  Subscriber  1956       1         1\n",
       "                                                                                            ..\n",
       "Yorkville          3747            2019-10-15 19:13:29.079  Subscriber  1989       1         1\n",
       "                                   2019-10-17 22:09:40.602  Subscriber  1966       1         1\n",
       "                                   2019-10-18 07:26:32.927  Subscriber  1993       2         1\n",
       "                                   2019-10-18 08:13:32.954  Subscriber  1973       1         1\n",
       "                                   2019-10-18 10:59:22.470  Subscriber  1980       2         1\n",
       "Length: 3719713, dtype: int64"
      ]
     },
     "execution_count": 45,
     "metadata": {},
     "output_type": "execute_result"
    }
   ],
   "source": [
    "cb_filtered.groupby(['startneighborhood','startstationid','starttime','usertype','birthyear','gender']).size()"
   ]
  },
  {
   "cell_type": "code",
   "execution_count": null,
   "metadata": {},
   "outputs": [],
   "source": []
  }
 ],
 "metadata": {
  "kernelspec": {
   "display_name": "Python 3",
   "language": "python",
   "name": "python3"
  },
  "language_info": {
   "codemirror_mode": {
    "name": "ipython",
    "version": 3
   },
   "file_extension": ".py",
   "mimetype": "text/x-python",
   "name": "python",
   "nbconvert_exporter": "python",
   "pygments_lexer": "ipython3",
   "version": "3.7.4"
  }
 },
 "nbformat": 4,
 "nbformat_minor": 2
}
