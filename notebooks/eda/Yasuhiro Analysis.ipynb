{
 "cells": [
  {
   "cell_type": "markdown",
   "metadata": {},
   "source": [
    "# Table of Contents\n",
    "- Helper Functions\n",
    "- National Climate Dater Center\n",
    "- NYCHA Building\n",
    "- Citibikes"
   ]
  },
  {
   "cell_type": "code",
   "execution_count": 1,
   "metadata": {},
   "outputs": [],
   "source": [
    "import numpy as np\n",
    "import pandas as pd\n",
    "import matplotlib.pyplot as plt\n",
    "import seaborn as sns\n",
    "%matplotlib inline"
   ]
  },
  {
   "cell_type": "code",
   "execution_count": null,
   "metadata": {},
   "outputs": [],
   "source": []
  },
  {
   "cell_type": "markdown",
   "metadata": {},
   "source": [
    "### NCDC\n",
    "\n",
    "Source:\n",
    "https://www.ncdc.noaa.gov/cdo-web/datasets/GHCND/stations/GHCND:USW00094728/detail"
   ]
  },
  {
   "cell_type": "code",
   "execution_count": 35,
   "metadata": {},
   "outputs": [],
   "source": [
    "noaa = pd.read_csv('data/2070456.csv')\n",
    "noaa_detailed = pd.read_csv('data/2070451.csv')"
   ]
  },
  {
   "cell_type": "code",
   "execution_count": 39,
   "metadata": {
    "collapsed": true
   },
   "outputs": [
    {
     "name": "stdout",
     "output_type": "stream",
     "text": [
      "<class 'pandas.core.frame.DataFrame'>\n",
      "RangeIndex: 2410 entries, 0 to 2409\n",
      "Data columns (total 22 columns):\n",
      "STATION    2410 non-null object\n",
      "NAME       2410 non-null object\n",
      "DATE       2410 non-null object\n",
      "AWND       2244 non-null float64\n",
      "PGTM       1 non-null float64\n",
      "PRCP       2410 non-null float64\n",
      "SNOW       2409 non-null float64\n",
      "SNWD       2410 non-null float64\n",
      "TAVG       0 non-null float64\n",
      "TMAX       2410 non-null int64\n",
      "TMIN       2410 non-null int64\n",
      "TSUN       1 non-null float64\n",
      "WDF2       2247 non-null float64\n",
      "WDF5       2233 non-null float64\n",
      "WSF2       2247 non-null float64\n",
      "WSF5       2233 non-null float64\n",
      "WT01       822 non-null float64\n",
      "WT02       46 non-null float64\n",
      "WT03       55 non-null float64\n",
      "WT04       5 non-null float64\n",
      "WT06       14 non-null float64\n",
      "WT08       451 non-null float64\n",
      "dtypes: float64(17), int64(2), object(3)\n",
      "memory usage: 414.3+ KB\n"
     ]
    },
    {
     "data": {
      "text/plain": [
       "(2410, 22)"
      ]
     },
     "execution_count": 39,
     "metadata": {},
     "output_type": "execute_result"
    }
   ],
   "source": [
    "noaa.info()\n",
    "noaa.shape"
   ]
  },
  {
   "cell_type": "code",
   "execution_count": 24,
   "metadata": {
    "scrolled": true
   },
   "outputs": [],
   "source": [
    "noaa_detailed.columns = noaa_detailed.columns.str.lower()"
   ]
  },
  {
   "cell_type": "code",
   "execution_count": 33,
   "metadata": {},
   "outputs": [],
   "source": [
    "NYC_coord = noaa_detailed.loc[:,['latitude','longitude']]"
   ]
  },
  {
   "cell_type": "code",
   "execution_count": 40,
   "metadata": {},
   "outputs": [
    {
     "data": {
      "text/plain": [
       "(2410, 2)"
      ]
     },
     "execution_count": 40,
     "metadata": {},
     "output_type": "execute_result"
    }
   ],
   "source": [
    "print(NYC_coord.shape)\n",
    "NYC_coord.sample()"
   ]
  },
  {
   "cell_type": "markdown",
   "metadata": {},
   "source": [
    "## NOAA column info\n",
    "- STATION = USW00094728\n",
    "- NAME = NY CITY CENTRAL PARK, NY US\n",
    "- DATE = YYYY-MM-DD\n",
    "- AWND = Average daily wind speed (meters per second or miles per hour as per user preference)\n",
    "- PGTM = Peak gust time (hours and minutes, i.e., HHMM)\n",
    "\n",
    "#### 9’s in a field (e.g.9999) indicate missing data or data that has not been received.\n",
    "\n",
    "- PRCP = Precipitation (mm or inches as per user preference, inches to hundredths on Daily Form pdf file)\n",
    "- SNOW = Snowfall\n",
    "- SNWD = Snowdepth\n",
    "- TAVG = ? (all nan)\n",
    "- TMAX = Maximum temperature (Fahrenheit or Celsius as per user preference, Fahrenheit to tenths\n",
    "- TMIN = Minimum temperature (Fahrenheit or Celsius as per user preference, Fahrenheit to tenths \n",
    "- TSUN = Daily total sunshine (minutes)\n",
    "- WDF2 = Direction of fastest 2-minute wind (degrees)\n",
    "- WDF5 = Direction of fastest 5-**second** wind (degrees)\n",
    "- WSF2 = Fastest 2-minute wind speed (miles per hour or meters per second as per user preference)\n",
    "- WSF5 = Fastest 5-**second** wind speed (miles per hour or meters per second as per user preference)\n",
    "\n",
    "#### WT** = Weather Type where ** has one of the following values: \n",
    "- **01 = Fog, ice fog, or freezing fog (may include heavy fog)**\n",
    "- **02 = Heavy fog or heaving freezing fog (not always distinguished from fog)**\n",
    "- **03 = Thunder**\n",
    "- **04 = Ice pellets, sleet, snow pellets, or small hail**\n",
    "- 05 = Hail (may include small hail)\n",
    "- **06 = Glaze or rime**\n",
    "- 07 = Dust, volcanic ash, blowing dust, blowing sand, or blowing obstruction\n",
    "- **08 = Smoke or haze**\n",
    "- 09 = Blowing or drifting snow\n",
    "- 10 = Tornado, waterspout, or funnel cloud\n",
    "- 11 = High or damaging winds\n",
    "- 12 = Blowing spray\n",
    "- 13 = Mist\n",
    "- 14 = Drizzle\n",
    "- 15 = Freezing drizzle\n",
    "- 16 = Rain (may include freezing rain, drizzle, and freezing drizzle)\n",
    "- 17 = Freezing rain\n",
    "- 18 = Snow, snow pellets, snow grains, or ice crystals\n",
    "- 19 = Unknown source of precipitation\n",
    "- 21 = Ground fog\n",
    "- 22 = Ice fog or freezing fog"
   ]
  },
  {
   "cell_type": "code",
   "execution_count": 42,
   "metadata": {},
   "outputs": [
    {
     "data": {
      "text/plain": [
       "(2410, 24)"
      ]
     },
     "execution_count": 42,
     "metadata": {},
     "output_type": "execute_result"
    }
   ],
   "source": [
    "NYclimate = pd.concat([NYC_coord, noaa], axis =1)\n",
    "NYclimate.shape"
   ]
  },
  {
   "cell_type": "code",
   "execution_count": 44,
   "metadata": {
    "collapsed": true
   },
   "outputs": [
    {
     "name": "stdout",
     "output_type": "stream",
     "text": [
      "<class 'pandas.core.frame.DataFrame'>\n",
      "RangeIndex: 2410 entries, 0 to 2409\n",
      "Data columns (total 24 columns):\n",
      "latitude     2410 non-null float64\n",
      "longitude    2410 non-null float64\n",
      "STATION      2410 non-null object\n",
      "NAME         2410 non-null object\n",
      "DATE         2410 non-null object\n",
      "AWND         2244 non-null float64\n",
      "PGTM         1 non-null float64\n",
      "PRCP         2410 non-null float64\n",
      "SNOW         2409 non-null float64\n",
      "SNWD         2410 non-null float64\n",
      "TAVG         0 non-null float64\n",
      "TMAX         2410 non-null int64\n",
      "TMIN         2410 non-null int64\n",
      "TSUN         1 non-null float64\n",
      "WDF2         2247 non-null float64\n",
      "WDF5         2233 non-null float64\n",
      "WSF2         2247 non-null float64\n",
      "WSF5         2233 non-null float64\n",
      "WT01         822 non-null float64\n",
      "WT02         46 non-null float64\n",
      "WT03         55 non-null float64\n",
      "WT04         5 non-null float64\n",
      "WT06         14 non-null float64\n",
      "WT08         451 non-null float64\n",
      "dtypes: float64(19), int64(2), object(3)\n",
      "memory usage: 452.0+ KB\n"
     ]
    }
   ],
   "source": [
    "NYclimate.info()"
   ]
  },
  {
   "cell_type": "code",
   "execution_count": 49,
   "metadata": {},
   "outputs": [],
   "source": [
    "NYclimate['Raincheck']= 0\n",
    "NYclimate['Raincheck']= NYclimate['PRCP']!=0"
   ]
  },
  {
   "cell_type": "code",
   "execution_count": 51,
   "metadata": {},
   "outputs": [],
   "source": [
    "NYclimate.to_csv('NYC_climate.csv', index = False)"
   ]
  },
  {
   "cell_type": "markdown",
   "metadata": {},
   "source": [
    "Prepare Visual for comparing min and max temperature, prcp with bike usage"
   ]
  },
  {
   "cell_type": "markdown",
   "metadata": {},
   "source": [
    "### NYCHA Building Locations\n",
    "Source:\n",
    "https://data.cityofnewyork.us/Housing-Development/Map-of-NYCHA-Developments/i9rv-hdr5"
   ]
  },
  {
   "cell_type": "code",
   "execution_count": 2,
   "metadata": {},
   "outputs": [],
   "source": [
    "#!pip install geopandas\n",
    "#!pip install descartes #For ploting polygons\n",
    "import geopandas"
   ]
  },
  {
   "cell_type": "code",
   "execution_count": 3,
   "metadata": {},
   "outputs": [],
   "source": [
    "geospatial = geopandas.read_file('data/Map of NYCHA Developments.geojson')"
   ]
  },
  {
   "cell_type": "code",
   "execution_count": 4,
   "metadata": {},
   "outputs": [
    {
     "data": {
      "text/html": [
       "<div>\n",
       "<style scoped>\n",
       "    .dataframe tbody tr th:only-of-type {\n",
       "        vertical-align: middle;\n",
       "    }\n",
       "\n",
       "    .dataframe tbody tr th {\n",
       "        vertical-align: top;\n",
       "    }\n",
       "\n",
       "    .dataframe thead th {\n",
       "        text-align: right;\n",
       "    }\n",
       "</style>\n",
       "<table border=\"1\" class=\"dataframe\">\n",
       "  <thead>\n",
       "    <tr style=\"text-align: right;\">\n",
       "      <th></th>\n",
       "      <th>borough</th>\n",
       "      <th>developmen</th>\n",
       "      <th>tds_num</th>\n",
       "      <th>geometry</th>\n",
       "    </tr>\n",
       "  </thead>\n",
       "  <tbody>\n",
       "    <tr>\n",
       "      <th>0</th>\n",
       "      <td>BRONX</td>\n",
       "      <td>1010 EAST 178TH STREET</td>\n",
       "      <td>180</td>\n",
       "      <td>MULTIPOLYGON (((-73.88092 40.84050, -73.88068 ...</td>\n",
       "    </tr>\n",
       "    <tr>\n",
       "      <th>1</th>\n",
       "      <td>BROOKLYN</td>\n",
       "      <td>104-14 TAPSCOTT STREET</td>\n",
       "      <td>242</td>\n",
       "      <td>MULTIPOLYGON (((-73.92074 40.66492, -73.92076 ...</td>\n",
       "    </tr>\n",
       "    <tr>\n",
       "      <th>2</th>\n",
       "      <td>BRONX</td>\n",
       "      <td>1162-1176 WASHINGTON AVENUE</td>\n",
       "      <td>233</td>\n",
       "      <td>MULTIPOLYGON (((-73.90695 40.83009, -73.90699 ...</td>\n",
       "    </tr>\n",
       "    <tr>\n",
       "      <th>3</th>\n",
       "      <td>MANHATTAN</td>\n",
       "      <td>131 SAINT NICHOLAS AVENUE</td>\n",
       "      <td>154</td>\n",
       "      <td>MULTIPOLYGON (((-73.95366 40.80416, -73.95364 ...</td>\n",
       "    </tr>\n",
       "    <tr>\n",
       "      <th>4</th>\n",
       "      <td>BRONX</td>\n",
       "      <td>1471 WATSON AVENUE</td>\n",
       "      <td>214</td>\n",
       "      <td>MULTIPOLYGON (((-73.88104 40.82640, -73.88097 ...</td>\n",
       "    </tr>\n",
       "  </tbody>\n",
       "</table>\n",
       "</div>"
      ],
      "text/plain": [
       "     borough                   developmen tds_num  \\\n",
       "0      BRONX       1010 EAST 178TH STREET     180   \n",
       "1   BROOKLYN       104-14 TAPSCOTT STREET     242   \n",
       "2      BRONX  1162-1176 WASHINGTON AVENUE     233   \n",
       "3  MANHATTAN    131 SAINT NICHOLAS AVENUE     154   \n",
       "4      BRONX           1471 WATSON AVENUE     214   \n",
       "\n",
       "                                            geometry  \n",
       "0  MULTIPOLYGON (((-73.88092 40.84050, -73.88068 ...  \n",
       "1  MULTIPOLYGON (((-73.92074 40.66492, -73.92076 ...  \n",
       "2  MULTIPOLYGON (((-73.90695 40.83009, -73.90699 ...  \n",
       "3  MULTIPOLYGON (((-73.95366 40.80416, -73.95364 ...  \n",
       "4  MULTIPOLYGON (((-73.88104 40.82640, -73.88097 ...  "
      ]
     },
     "execution_count": 4,
     "metadata": {},
     "output_type": "execute_result"
    }
   ],
   "source": [
    "geospatial.head()"
   ]
  },
  {
   "cell_type": "code",
   "execution_count": 5,
   "metadata": {},
   "outputs": [
    {
     "data": {
      "text/plain": [
       "geopandas.geodataframe.GeoDataFrame"
      ]
     },
     "execution_count": 5,
     "metadata": {},
     "output_type": "execute_result"
    }
   ],
   "source": [
    "type(geospatial)"
   ]
  },
  {
   "cell_type": "code",
   "execution_count": 106,
   "metadata": {},
   "outputs": [
    {
     "data": {
      "text/plain": [
       "<matplotlib.axes._subplots.AxesSubplot at 0x126c2e590>"
      ]
     },
     "execution_count": 106,
     "metadata": {},
     "output_type": "execute_result"
    },
    {
     "data": {
      "image/png": "[encoded data removed]",
      "text/plain": [
       "<Figure size 432x288 with 1 Axes>"
      ]
     },
     "metadata": {
      "needs_background": "light"
     },
     "output_type": "display_data"
    }
   ],
   "source": [
    "geospatial.plot() #NYC Locations"
   ]
  },
  {
   "cell_type": "code",
   "execution_count": null,
   "metadata": {},
   "outputs": [],
   "source": [
    "# Plot larger visual"
   ]
  },
  {
   "cell_type": "markdown",
   "metadata": {},
   "source": [
    "# Citibike Analysis"
   ]
  },
  {
   "cell_type": "code",
   "execution_count": 5,
   "metadata": {},
   "outputs": [],
   "source": [
    "bikes = pd.read_csv('data/201306-citibike-tripdata.csv')"
   ]
  },
  {
   "cell_type": "code",
   "execution_count": 16,
   "metadata": {
    "collapsed": true
   },
   "outputs": [
    {
     "name": "stdout",
     "output_type": "stream",
     "text": [
      "<class 'pandas.core.frame.DataFrame'>\n",
      "RangeIndex: 577703 entries, 0 to 577702\n",
      "Data columns (total 15 columns):\n",
      "tripduration               577703 non-null int64\n",
      "starttime                  577703 non-null object\n",
      "stoptime                   577703 non-null object\n",
      "start station id           577703 non-null int64\n",
      "start station name         577703 non-null object\n",
      "start station latitude     577703 non-null float64\n",
      "start station longitude    577703 non-null float64\n",
      "end station id             559644 non-null float64\n",
      "end station name           559644 non-null object\n",
      "end station latitude       559644 non-null float64\n",
      "end station longitude      559644 non-null float64\n",
      "bikeid                     577703 non-null int64\n",
      "usertype                   577703 non-null object\n",
      "birth year                 337382 non-null float64\n",
      "gender                     577703 non-null int64\n",
      "dtypes: float64(6), int64(4), object(5)\n",
      "memory usage: 66.1+ MB\n"
     ]
    }
   ],
   "source": [
    "bikes.info()"
   ]
  },
  {
   "cell_type": "code",
   "execution_count": 6,
   "metadata": {},
   "outputs": [],
   "source": [
    "from mofo_bikes.notebooks import HelperFn as fn"
   ]
  },
  {
   "cell_type": "code",
   "execution_count": 7,
   "metadata": {},
   "outputs": [
    {
     "data": {
      "image/png": "[encoded data removed]",
      "text/plain": [
       "<Figure size 864x432 with 1 Axes>"
      ]
     },
     "metadata": {
      "needs_background": "light"
     },
     "output_type": "display_data"
    }
   ],
   "source": [
    "fn.highest_NA(bikes)"
   ]
  },
  {
   "cell_type": "code",
   "execution_count": 8,
   "metadata": {},
   "outputs": [],
   "source": [
    "# Convert Seconds to minutes\n",
    "bikes['tripduration']  = bikes['tripduration']/60"
   ]
  },
  {
   "cell_type": "code",
   "execution_count": 9,
   "metadata": {},
   "outputs": [
    {
     "data": {
      "text/html": [
       "<div>\n",
       "<style scoped>\n",
       "    .dataframe tbody tr th:only-of-type {\n",
       "        vertical-align: middle;\n",
       "    }\n",
       "\n",
       "    .dataframe tbody tr th {\n",
       "        vertical-align: top;\n",
       "    }\n",
       "\n",
       "    .dataframe thead th {\n",
       "        text-align: right;\n",
       "    }\n",
       "</style>\n",
       "<table border=\"1\" class=\"dataframe\">\n",
       "  <thead>\n",
       "    <tr style=\"text-align: right;\">\n",
       "      <th></th>\n",
       "      <th>tripduration</th>\n",
       "      <th>start station id</th>\n",
       "      <th>start station latitude</th>\n",
       "      <th>start station longitude</th>\n",
       "      <th>end station id</th>\n",
       "      <th>end station latitude</th>\n",
       "      <th>end station longitude</th>\n",
       "      <th>bikeid</th>\n",
       "      <th>birth year</th>\n",
       "      <th>gender</th>\n",
       "    </tr>\n",
       "  </thead>\n",
       "  <tbody>\n",
       "    <tr>\n",
       "      <th>count</th>\n",
       "      <td>577703.000000</td>\n",
       "      <td>577703.000000</td>\n",
       "      <td>577703.000000</td>\n",
       "      <td>577703.000000</td>\n",
       "      <td>559644.000000</td>\n",
       "      <td>559644.000000</td>\n",
       "      <td>559644.000000</td>\n",
       "      <td>577703.000000</td>\n",
       "      <td>337382.000000</td>\n",
       "      <td>577703.000000</td>\n",
       "    </tr>\n",
       "    <tr>\n",
       "      <th>mean</th>\n",
       "      <td>22.876171</td>\n",
       "      <td>439.228836</td>\n",
       "      <td>40.732436</td>\n",
       "      <td>-73.991251</td>\n",
       "      <td>441.910624</td>\n",
       "      <td>40.732146</td>\n",
       "      <td>-73.991244</td>\n",
       "      <td>17617.434516</td>\n",
       "      <td>1974.644945</td>\n",
       "      <td>0.710431</td>\n",
       "    </tr>\n",
       "    <tr>\n",
       "      <th>std</th>\n",
       "      <td>150.467717</td>\n",
       "      <td>337.240318</td>\n",
       "      <td>0.021423</td>\n",
       "      <td>0.013002</td>\n",
       "      <td>345.448311</td>\n",
       "      <td>0.021507</td>\n",
       "      <td>0.013105</td>\n",
       "      <td>1677.518719</td>\n",
       "      <td>10.780255</td>\n",
       "      <td>0.678268</td>\n",
       "    </tr>\n",
       "    <tr>\n",
       "      <th>min</th>\n",
       "      <td>1.016667</td>\n",
       "      <td>72.000000</td>\n",
       "      <td>40.646607</td>\n",
       "      <td>-74.017134</td>\n",
       "      <td>72.000000</td>\n",
       "      <td>40.646607</td>\n",
       "      <td>-74.017134</td>\n",
       "      <td>14529.000000</td>\n",
       "      <td>1899.000000</td>\n",
       "      <td>0.000000</td>\n",
       "    </tr>\n",
       "    <tr>\n",
       "      <th>25%</th>\n",
       "      <td>8.566667</td>\n",
       "      <td>309.000000</td>\n",
       "      <td>40.717400</td>\n",
       "      <td>-74.001768</td>\n",
       "      <td>309.000000</td>\n",
       "      <td>40.716887</td>\n",
       "      <td>-74.001971</td>\n",
       "      <td>16161.000000</td>\n",
       "      <td>1968.000000</td>\n",
       "      <td>0.000000</td>\n",
       "    </tr>\n",
       "    <tr>\n",
       "      <th>50%</th>\n",
       "      <td>14.566667</td>\n",
       "      <td>404.000000</td>\n",
       "      <td>40.734546</td>\n",
       "      <td>-73.990741</td>\n",
       "      <td>403.000000</td>\n",
       "      <td>40.734232</td>\n",
       "      <td>-73.990741</td>\n",
       "      <td>17638.000000</td>\n",
       "      <td>1977.000000</td>\n",
       "      <td>1.000000</td>\n",
       "    </tr>\n",
       "    <tr>\n",
       "      <th>75%</th>\n",
       "      <td>23.300000</td>\n",
       "      <td>482.000000</td>\n",
       "      <td>40.749013</td>\n",
       "      <td>-73.981948</td>\n",
       "      <td>482.000000</td>\n",
       "      <td>40.748549</td>\n",
       "      <td>-73.981923</td>\n",
       "      <td>19066.000000</td>\n",
       "      <td>1983.000000</td>\n",
       "      <td>1.000000</td>\n",
       "    </tr>\n",
       "    <tr>\n",
       "      <th>max</th>\n",
       "      <td>64607.983333</td>\n",
       "      <td>3020.000000</td>\n",
       "      <td>40.771522</td>\n",
       "      <td>-73.950048</td>\n",
       "      <td>3020.000000</td>\n",
       "      <td>40.771522</td>\n",
       "      <td>-73.950048</td>\n",
       "      <td>20625.000000</td>\n",
       "      <td>1997.000000</td>\n",
       "      <td>2.000000</td>\n",
       "    </tr>\n",
       "  </tbody>\n",
       "</table>\n",
       "</div>"
      ],
      "text/plain": [
       "        tripduration  start station id  start station latitude  \\\n",
       "count  577703.000000     577703.000000           577703.000000   \n",
       "mean       22.876171        439.228836               40.732436   \n",
       "std       150.467717        337.240318                0.021423   \n",
       "min         1.016667         72.000000               40.646607   \n",
       "25%         8.566667        309.000000               40.717400   \n",
       "50%        14.566667        404.000000               40.734546   \n",
       "75%        23.300000        482.000000               40.749013   \n",
       "max     64607.983333       3020.000000               40.771522   \n",
       "\n",
       "       start station longitude  end station id  end station latitude  \\\n",
       "count            577703.000000   559644.000000         559644.000000   \n",
       "mean                -73.991251      441.910624             40.732146   \n",
       "std                   0.013002      345.448311              0.021507   \n",
       "min                 -74.017134       72.000000             40.646607   \n",
       "25%                 -74.001768      309.000000             40.716887   \n",
       "50%                 -73.990741      403.000000             40.734232   \n",
       "75%                 -73.981948      482.000000             40.748549   \n",
       "max                 -73.950048     3020.000000             40.771522   \n",
       "\n",
       "       end station longitude         bikeid     birth year         gender  \n",
       "count          559644.000000  577703.000000  337382.000000  577703.000000  \n",
       "mean              -73.991244   17617.434516    1974.644945       0.710431  \n",
       "std                 0.013105    1677.518719      10.780255       0.678268  \n",
       "min               -74.017134   14529.000000    1899.000000       0.000000  \n",
       "25%               -74.001971   16161.000000    1968.000000       0.000000  \n",
       "50%               -73.990741   17638.000000    1977.000000       1.000000  \n",
       "75%               -73.981923   19066.000000    1983.000000       1.000000  \n",
       "max               -73.950048   20625.000000    1997.000000       2.000000  "
      ]
     },
     "execution_count": 9,
     "metadata": {},
     "output_type": "execute_result"
    }
   ],
   "source": [
    "# Remove 0 distance stations\n",
    "bikes.describe()"
   ]
  },
  {
   "cell_type": "code",
   "execution_count": 10,
   "metadata": {},
   "outputs": [],
   "source": [
    "import random\n",
    "import os \n",
    "import glob #Unix style pathname pattern expansion\n",
    " #Changes direction to the folder"
   ]
  },
  {
   "cell_type": "code",
   "execution_count": 95,
   "metadata": {},
   "outputs": [],
   "source": [
    "os.chdir('data/201307-201402-citibike-tripdata')"
   ]
  },
  {
   "cell_type": "code",
   "execution_count": 96,
   "metadata": {},
   "outputs": [],
   "source": [
    "random.seed(0)\n",
    "my_dfs = []\n",
    "extension = 'csv'\n",
    "\n",
    "# Uses glob fn from glob to match the extension pattern (csv). Written in regex\n",
    "\n",
    "all_filenames = [i for i in glob.glob('*.{}'.format(extension) )]\n",
    "\n",
    "i = 1\n",
    "for csv in all_filenames:\n",
    "    df_downsample = fn.pd_read_downsample(csv, 0.01)\n",
    "    my_dfs.append(df_downsample)\n",
    "    print('csv {} completed'.format(i))\n",
    "    i += 1\n",
    "    \n",
    "fin_dat = pd.concat(my_dfs)"
   ]
  },
  {
   "cell_type": "code",
   "execution_count": 97,
   "metadata": {},
   "outputs": [
    {
     "name": "stdout",
     "output_type": "stream",
     "text": [
      "(55624, 15)\n",
      "(577703, 15)\n"
     ]
    }
   ],
   "source": [
    "print(fin_dat.shape)\n",
    "print(bikes.shape)"
   ]
  },
  {
   "cell_type": "code",
   "execution_count": 120,
   "metadata": {},
   "outputs": [],
   "source": [
    "os.chdir('../..')"
   ]
  },
  {
   "cell_type": "code",
   "execution_count": 26,
   "metadata": {},
   "outputs": [],
   "source": [
    "?fn.file_compressor"
   ]
  },
  {
   "cell_type": "code",
   "execution_count": 15,
   "metadata": {},
   "outputs": [
    {
     "name": "stdout",
     "output_type": "stream",
     "text": [
      "csv 1 completed\n",
      "csv 2 completed\n",
      "csv 3 completed\n",
      "csv 4 completed\n",
      "csv 5 completed\n",
      "csv 6 completed\n",
      "csv 7 completed\n",
      "csv 8 completed\n",
      "Dataframe variable is set as finished_df\n",
      "finished_df printed as combined_csv.csv\n",
      "Complete!\n"
     ]
    }
   ],
   "source": [
    "# Testing the file compressor with non-JS files\n",
    "fn.file_compressor(\n",
    "    startdir = 'data/201307-201402-citibike-tripdata',\n",
    "    returndir = '../..',\n",
    "    export = True\n",
    "               )"
   ]
  },
  {
   "cell_type": "code",
   "execution_count": 21,
   "metadata": {},
   "outputs": [],
   "source": [
    "finished_csv = pd.read_csv('data/201307-201402-citibike-tripdata/combined_csv.csv')"
   ]
  },
  {
   "cell_type": "code",
   "execution_count": 22,
   "metadata": {},
   "outputs": [
    {
     "name": "stdout",
     "output_type": "stream",
     "text": [
      "(577703, 15)\n",
      "(55624, 15)\n"
     ]
    }
   ],
   "source": [
    "print(bikes.shape)\n",
    "#print(fin_dat.shape)\n",
    "#print(finished_df.shape)\n",
    "print(finished_csv.shape)"
   ]
  },
  {
   "cell_type": "code",
   "execution_count": 24,
   "metadata": {},
   "outputs": [],
   "source": [
    "js_csv = pd.read_csv('data/citibike_data/JC-201509-citibike-tripdata.csv')"
   ]
  },
  {
   "cell_type": "code",
   "execution_count": 29,
   "metadata": {},
   "outputs": [],
   "source": [
    "js_csv.columns = js_csv.columns.str.lower()"
   ]
  },
  {
   "cell_type": "code",
   "execution_count": 35,
   "metadata": {},
   "outputs": [],
   "source": [
    "js_csv.columns = js_csv.columns.str.replace(' ','')"
   ]
  },
  {
   "cell_type": "code",
   "execution_count": null,
   "metadata": {},
   "outputs": [],
   "source": [
    "js_csv.to_csv('data/citibike_data/JC-201509-citibike-tripdata.csv',)"
   ]
  },
  {
   "cell_type": "code",
   "execution_count": 27,
   "metadata": {},
   "outputs": [
    {
     "name": "stdout",
     "output_type": "stream",
     "text": [
      "csv 1 completed\n",
      "csv 2 completed\n"
     ]
    },
    {
     "ename": "ValueError",
     "evalue": "'Start Time' is not in list",
     "output_type": "error",
     "traceback": [
      "\u001b[0;31m---------------------------------------------------------------------------\u001b[0m",
      "\u001b[0;31mValueError\u001b[0m                                Traceback (most recent call last)",
      "\u001b[0;32m<ipython-input-27-da4fa724e355>\u001b[0m in \u001b[0;36m<module>\u001b[0;34m\u001b[0m\n\u001b[1;32m      4\u001b[0m     \u001b[0mparse_dates\u001b[0m \u001b[0;34m=\u001b[0m \u001b[0;34m[\u001b[0m\u001b[0;34m'Start Time'\u001b[0m\u001b[0;34m,\u001b[0m\u001b[0;34m'Stop Time'\u001b[0m\u001b[0;34m]\u001b[0m\u001b[0;34m,\u001b[0m\u001b[0;34m\u001b[0m\u001b[0;34m\u001b[0m\u001b[0m\n\u001b[1;32m      5\u001b[0m     \u001b[0mexport\u001b[0m \u001b[0;34m=\u001b[0m \u001b[0;32mTrue\u001b[0m\u001b[0;34m,\u001b[0m\u001b[0;34m\u001b[0m\u001b[0;34m\u001b[0m\u001b[0m\n\u001b[0;32m----> 6\u001b[0;31m     \u001b[0mname\u001b[0m \u001b[0;34m=\u001b[0m \u001b[0;34m'five_yr_citibike.csv'\u001b[0m\u001b[0;34m\u001b[0m\u001b[0;34m\u001b[0m\u001b[0m\n\u001b[0m\u001b[1;32m      7\u001b[0m                   )\n",
      "\u001b[0;32m~/Downloads/Project/mofo_bikes/notebooks/HelperFn.py\u001b[0m in \u001b[0;36mfile_compressor\u001b[0;34m(startdir, returndir, parse_dates, extension, rdm, pathchange, percent, export, name)\u001b[0m\n\u001b[1;32m     44\u001b[0m     \u001b[0mi\u001b[0m \u001b[0;34m=\u001b[0m \u001b[0;36m1\u001b[0m\u001b[0;34m\u001b[0m\u001b[0;34m\u001b[0m\u001b[0m\n\u001b[1;32m     45\u001b[0m     \u001b[0;32mfor\u001b[0m \u001b[0mfile\u001b[0m \u001b[0;32min\u001b[0m \u001b[0mall_filenames\u001b[0m\u001b[0;34m:\u001b[0m\u001b[0;34m\u001b[0m\u001b[0;34m\u001b[0m\u001b[0m\n\u001b[0;32m---> 46\u001b[0;31m         \u001b[0mdf_downsample\u001b[0m \u001b[0;34m=\u001b[0m \u001b[0mpd_read_downsample\u001b[0m\u001b[0;34m(\u001b[0m\u001b[0mfile\u001b[0m\u001b[0;34m,\u001b[0m \u001b[0mpercent\u001b[0m\u001b[0;34m,\u001b[0m \u001b[0mparse_dates\u001b[0m \u001b[0;34m=\u001b[0m \u001b[0mparse_dates\u001b[0m\u001b[0;34m)\u001b[0m\u001b[0;34m\u001b[0m\u001b[0;34m\u001b[0m\u001b[0m\n\u001b[0m\u001b[1;32m     47\u001b[0m         \u001b[0mdf_list\u001b[0m\u001b[0;34m.\u001b[0m\u001b[0mappend\u001b[0m\u001b[0;34m(\u001b[0m\u001b[0mdf_downsample\u001b[0m\u001b[0;34m)\u001b[0m\u001b[0;34m\u001b[0m\u001b[0;34m\u001b[0m\u001b[0m\n\u001b[1;32m     48\u001b[0m         \u001b[0mprint\u001b[0m\u001b[0;34m(\u001b[0m\u001b[0;34m'csv {} completed'\u001b[0m\u001b[0;34m.\u001b[0m\u001b[0mformat\u001b[0m\u001b[0;34m(\u001b[0m\u001b[0mi\u001b[0m\u001b[0;34m)\u001b[0m\u001b[0;34m)\u001b[0m\u001b[0;34m\u001b[0m\u001b[0;34m\u001b[0m\u001b[0m\n",
      "\u001b[0;32m~/Downloads/Project/mofo_bikes/notebooks/HelperFn.py\u001b[0m in \u001b[0;36mpd_read_downsample\u001b[0;34m(filename, per, parse_dates)\u001b[0m\n\u001b[1;32m     68\u001b[0m     \u001b[0ms\u001b[0m \u001b[0;34m=\u001b[0m \u001b[0mround\u001b[0m\u001b[0;34m(\u001b[0m\u001b[0mn\u001b[0m\u001b[0;34m*\u001b[0m\u001b[0mper\u001b[0m\u001b[0;34m)\u001b[0m\u001b[0;34m\u001b[0m\u001b[0;34m\u001b[0m\u001b[0m\n\u001b[1;32m     69\u001b[0m     \u001b[0mskip\u001b[0m \u001b[0;34m=\u001b[0m \u001b[0msorted\u001b[0m\u001b[0;34m(\u001b[0m \u001b[0mrandom\u001b[0m\u001b[0;34m.\u001b[0m\u001b[0msample\u001b[0m\u001b[0;34m(\u001b[0m\u001b[0mrange\u001b[0m\u001b[0;34m(\u001b[0m\u001b[0;36m1\u001b[0m\u001b[0;34m,\u001b[0m\u001b[0mn\u001b[0m\u001b[0;34m+\u001b[0m\u001b[0;36m1\u001b[0m\u001b[0;34m)\u001b[0m\u001b[0;34m,\u001b[0m \u001b[0mn\u001b[0m\u001b[0;34m-\u001b[0m\u001b[0ms\u001b[0m\u001b[0;34m)\u001b[0m\u001b[0;34m)\u001b[0m \u001b[0;31m#the 0-indexed header will not be included in the skip list\u001b[0m\u001b[0;34m\u001b[0m\u001b[0;34m\u001b[0m\u001b[0m\n\u001b[0;32m---> 70\u001b[0;31m     \u001b[0mdf\u001b[0m \u001b[0;34m=\u001b[0m \u001b[0mpd\u001b[0m\u001b[0;34m.\u001b[0m\u001b[0mread_csv\u001b[0m\u001b[0;34m(\u001b[0m\u001b[0mfilename\u001b[0m\u001b[0;34m,\u001b[0m \u001b[0mparse_dates\u001b[0m\u001b[0;34m=\u001b[0m \u001b[0mparse_dates\u001b[0m\u001b[0;34m,\u001b[0m \u001b[0mskiprows\u001b[0m\u001b[0;34m=\u001b[0m\u001b[0mskip\u001b[0m\u001b[0;34m)\u001b[0m\u001b[0;34m\u001b[0m\u001b[0;34m\u001b[0m\u001b[0m\n\u001b[0m\u001b[1;32m     71\u001b[0m     \u001b[0;32mreturn\u001b[0m \u001b[0mdf\u001b[0m\u001b[0;34m\u001b[0m\u001b[0;34m\u001b[0m\u001b[0m\n\u001b[1;32m     72\u001b[0m \u001b[0;34m\u001b[0m\u001b[0m\n",
      "\u001b[0;32m/opt/anaconda3/lib/python3.7/site-packages/pandas/io/parsers.py\u001b[0m in \u001b[0;36mparser_f\u001b[0;34m(filepath_or_buffer, sep, delimiter, header, names, index_col, usecols, squeeze, prefix, mangle_dupe_cols, dtype, engine, converters, true_values, false_values, skipinitialspace, skiprows, skipfooter, nrows, na_values, keep_default_na, na_filter, verbose, skip_blank_lines, parse_dates, infer_datetime_format, keep_date_col, date_parser, dayfirst, cache_dates, iterator, chunksize, compression, thousands, decimal, lineterminator, quotechar, quoting, doublequote, escapechar, comment, encoding, dialect, error_bad_lines, warn_bad_lines, delim_whitespace, low_memory, memory_map, float_precision)\u001b[0m\n\u001b[1;32m    683\u001b[0m         )\n\u001b[1;32m    684\u001b[0m \u001b[0;34m\u001b[0m\u001b[0m\n\u001b[0;32m--> 685\u001b[0;31m         \u001b[0;32mreturn\u001b[0m \u001b[0m_read\u001b[0m\u001b[0;34m(\u001b[0m\u001b[0mfilepath_or_buffer\u001b[0m\u001b[0;34m,\u001b[0m \u001b[0mkwds\u001b[0m\u001b[0;34m)\u001b[0m\u001b[0;34m\u001b[0m\u001b[0;34m\u001b[0m\u001b[0m\n\u001b[0m\u001b[1;32m    686\u001b[0m \u001b[0;34m\u001b[0m\u001b[0m\n\u001b[1;32m    687\u001b[0m     \u001b[0mparser_f\u001b[0m\u001b[0;34m.\u001b[0m\u001b[0m__name__\u001b[0m \u001b[0;34m=\u001b[0m \u001b[0mname\u001b[0m\u001b[0;34m\u001b[0m\u001b[0;34m\u001b[0m\u001b[0m\n",
      "\u001b[0;32m/opt/anaconda3/lib/python3.7/site-packages/pandas/io/parsers.py\u001b[0m in \u001b[0;36m_read\u001b[0;34m(filepath_or_buffer, kwds)\u001b[0m\n\u001b[1;32m    455\u001b[0m \u001b[0;34m\u001b[0m\u001b[0m\n\u001b[1;32m    456\u001b[0m     \u001b[0;31m# Create the parser.\u001b[0m\u001b[0;34m\u001b[0m\u001b[0;34m\u001b[0m\u001b[0;34m\u001b[0m\u001b[0m\n\u001b[0;32m--> 457\u001b[0;31m     \u001b[0mparser\u001b[0m \u001b[0;34m=\u001b[0m \u001b[0mTextFileReader\u001b[0m\u001b[0;34m(\u001b[0m\u001b[0mfp_or_buf\u001b[0m\u001b[0;34m,\u001b[0m \u001b[0;34m**\u001b[0m\u001b[0mkwds\u001b[0m\u001b[0;34m)\u001b[0m\u001b[0;34m\u001b[0m\u001b[0;34m\u001b[0m\u001b[0m\n\u001b[0m\u001b[1;32m    458\u001b[0m \u001b[0;34m\u001b[0m\u001b[0m\n\u001b[1;32m    459\u001b[0m     \u001b[0;32mif\u001b[0m \u001b[0mchunksize\u001b[0m \u001b[0;32mor\u001b[0m \u001b[0miterator\u001b[0m\u001b[0;34m:\u001b[0m\u001b[0;34m\u001b[0m\u001b[0;34m\u001b[0m\u001b[0m\n",
      "\u001b[0;32m/opt/anaconda3/lib/python3.7/site-packages/pandas/io/parsers.py\u001b[0m in \u001b[0;36m__init__\u001b[0;34m(self, f, engine, **kwds)\u001b[0m\n\u001b[1;32m    893\u001b[0m             \u001b[0mself\u001b[0m\u001b[0;34m.\u001b[0m\u001b[0moptions\u001b[0m\u001b[0;34m[\u001b[0m\u001b[0;34m\"has_index_names\"\u001b[0m\u001b[0;34m]\u001b[0m \u001b[0;34m=\u001b[0m \u001b[0mkwds\u001b[0m\u001b[0;34m[\u001b[0m\u001b[0;34m\"has_index_names\"\u001b[0m\u001b[0;34m]\u001b[0m\u001b[0;34m\u001b[0m\u001b[0;34m\u001b[0m\u001b[0m\n\u001b[1;32m    894\u001b[0m \u001b[0;34m\u001b[0m\u001b[0m\n\u001b[0;32m--> 895\u001b[0;31m         \u001b[0mself\u001b[0m\u001b[0;34m.\u001b[0m\u001b[0m_make_engine\u001b[0m\u001b[0;34m(\u001b[0m\u001b[0mself\u001b[0m\u001b[0;34m.\u001b[0m\u001b[0mengine\u001b[0m\u001b[0;34m)\u001b[0m\u001b[0;34m\u001b[0m\u001b[0;34m\u001b[0m\u001b[0m\n\u001b[0m\u001b[1;32m    896\u001b[0m \u001b[0;34m\u001b[0m\u001b[0m\n\u001b[1;32m    897\u001b[0m     \u001b[0;32mdef\u001b[0m \u001b[0mclose\u001b[0m\u001b[0;34m(\u001b[0m\u001b[0mself\u001b[0m\u001b[0;34m)\u001b[0m\u001b[0;34m:\u001b[0m\u001b[0;34m\u001b[0m\u001b[0;34m\u001b[0m\u001b[0m\n",
      "\u001b[0;32m/opt/anaconda3/lib/python3.7/site-packages/pandas/io/parsers.py\u001b[0m in \u001b[0;36m_make_engine\u001b[0;34m(self, engine)\u001b[0m\n\u001b[1;32m   1133\u001b[0m     \u001b[0;32mdef\u001b[0m \u001b[0m_make_engine\u001b[0m\u001b[0;34m(\u001b[0m\u001b[0mself\u001b[0m\u001b[0;34m,\u001b[0m \u001b[0mengine\u001b[0m\u001b[0;34m=\u001b[0m\u001b[0;34m\"c\"\u001b[0m\u001b[0;34m)\u001b[0m\u001b[0;34m:\u001b[0m\u001b[0;34m\u001b[0m\u001b[0;34m\u001b[0m\u001b[0m\n\u001b[1;32m   1134\u001b[0m         \u001b[0;32mif\u001b[0m \u001b[0mengine\u001b[0m \u001b[0;34m==\u001b[0m \u001b[0;34m\"c\"\u001b[0m\u001b[0;34m:\u001b[0m\u001b[0;34m\u001b[0m\u001b[0;34m\u001b[0m\u001b[0m\n\u001b[0;32m-> 1135\u001b[0;31m             \u001b[0mself\u001b[0m\u001b[0;34m.\u001b[0m\u001b[0m_engine\u001b[0m \u001b[0;34m=\u001b[0m \u001b[0mCParserWrapper\u001b[0m\u001b[0;34m(\u001b[0m\u001b[0mself\u001b[0m\u001b[0;34m.\u001b[0m\u001b[0mf\u001b[0m\u001b[0;34m,\u001b[0m \u001b[0;34m**\u001b[0m\u001b[0mself\u001b[0m\u001b[0;34m.\u001b[0m\u001b[0moptions\u001b[0m\u001b[0;34m)\u001b[0m\u001b[0;34m\u001b[0m\u001b[0;34m\u001b[0m\u001b[0m\n\u001b[0m\u001b[1;32m   1136\u001b[0m         \u001b[0;32melse\u001b[0m\u001b[0;34m:\u001b[0m\u001b[0;34m\u001b[0m\u001b[0;34m\u001b[0m\u001b[0m\n\u001b[1;32m   1137\u001b[0m             \u001b[0;32mif\u001b[0m \u001b[0mengine\u001b[0m \u001b[0;34m==\u001b[0m \u001b[0;34m\"python\"\u001b[0m\u001b[0;34m:\u001b[0m\u001b[0;34m\u001b[0m\u001b[0;34m\u001b[0m\u001b[0m\n",
      "\u001b[0;32m/opt/anaconda3/lib/python3.7/site-packages/pandas/io/parsers.py\u001b[0m in \u001b[0;36m__init__\u001b[0;34m(self, src, **kwds)\u001b[0m\n\u001b[1;32m   1969\u001b[0m                 \u001b[0m_validate_usecols_names\u001b[0m\u001b[0;34m(\u001b[0m\u001b[0musecols\u001b[0m\u001b[0;34m,\u001b[0m \u001b[0mself\u001b[0m\u001b[0;34m.\u001b[0m\u001b[0mnames\u001b[0m\u001b[0;34m)\u001b[0m\u001b[0;34m\u001b[0m\u001b[0;34m\u001b[0m\u001b[0m\n\u001b[1;32m   1970\u001b[0m \u001b[0;34m\u001b[0m\u001b[0m\n\u001b[0;32m-> 1971\u001b[0;31m         \u001b[0mself\u001b[0m\u001b[0;34m.\u001b[0m\u001b[0m_set_noconvert_columns\u001b[0m\u001b[0;34m(\u001b[0m\u001b[0;34m)\u001b[0m\u001b[0;34m\u001b[0m\u001b[0;34m\u001b[0m\u001b[0m\n\u001b[0m\u001b[1;32m   1972\u001b[0m \u001b[0;34m\u001b[0m\u001b[0m\n\u001b[1;32m   1973\u001b[0m         \u001b[0mself\u001b[0m\u001b[0;34m.\u001b[0m\u001b[0morig_names\u001b[0m \u001b[0;34m=\u001b[0m \u001b[0mself\u001b[0m\u001b[0;34m.\u001b[0m\u001b[0mnames\u001b[0m\u001b[0;34m\u001b[0m\u001b[0;34m\u001b[0m\u001b[0m\n",
      "\u001b[0;32m/opt/anaconda3/lib/python3.7/site-packages/pandas/io/parsers.py\u001b[0m in \u001b[0;36m_set_noconvert_columns\u001b[0;34m(self)\u001b[0m\n\u001b[1;32m   2035\u001b[0m                         \u001b[0m_set\u001b[0m\u001b[0;34m(\u001b[0m\u001b[0mk\u001b[0m\u001b[0;34m)\u001b[0m\u001b[0;34m\u001b[0m\u001b[0;34m\u001b[0m\u001b[0m\n\u001b[1;32m   2036\u001b[0m                 \u001b[0;32melse\u001b[0m\u001b[0;34m:\u001b[0m\u001b[0;34m\u001b[0m\u001b[0;34m\u001b[0m\u001b[0m\n\u001b[0;32m-> 2037\u001b[0;31m                     \u001b[0m_set\u001b[0m\u001b[0;34m(\u001b[0m\u001b[0mval\u001b[0m\u001b[0;34m)\u001b[0m\u001b[0;34m\u001b[0m\u001b[0;34m\u001b[0m\u001b[0m\n\u001b[0m\u001b[1;32m   2038\u001b[0m \u001b[0;34m\u001b[0m\u001b[0m\n\u001b[1;32m   2039\u001b[0m         \u001b[0;32melif\u001b[0m \u001b[0misinstance\u001b[0m\u001b[0;34m(\u001b[0m\u001b[0mself\u001b[0m\u001b[0;34m.\u001b[0m\u001b[0mparse_dates\u001b[0m\u001b[0;34m,\u001b[0m \u001b[0mdict\u001b[0m\u001b[0;34m)\u001b[0m\u001b[0;34m:\u001b[0m\u001b[0;34m\u001b[0m\u001b[0;34m\u001b[0m\u001b[0m\n",
      "\u001b[0;32m/opt/anaconda3/lib/python3.7/site-packages/pandas/io/parsers.py\u001b[0m in \u001b[0;36m_set\u001b[0;34m(x)\u001b[0m\n\u001b[1;32m   2025\u001b[0m \u001b[0;34m\u001b[0m\u001b[0m\n\u001b[1;32m   2026\u001b[0m             \u001b[0;32mif\u001b[0m \u001b[0;32mnot\u001b[0m \u001b[0mis_integer\u001b[0m\u001b[0;34m(\u001b[0m\u001b[0mx\u001b[0m\u001b[0;34m)\u001b[0m\u001b[0;34m:\u001b[0m\u001b[0;34m\u001b[0m\u001b[0;34m\u001b[0m\u001b[0m\n\u001b[0;32m-> 2027\u001b[0;31m                 \u001b[0mx\u001b[0m \u001b[0;34m=\u001b[0m \u001b[0mnames\u001b[0m\u001b[0;34m.\u001b[0m\u001b[0mindex\u001b[0m\u001b[0;34m(\u001b[0m\u001b[0mx\u001b[0m\u001b[0;34m)\u001b[0m\u001b[0;34m\u001b[0m\u001b[0;34m\u001b[0m\u001b[0m\n\u001b[0m\u001b[1;32m   2028\u001b[0m \u001b[0;34m\u001b[0m\u001b[0m\n\u001b[1;32m   2029\u001b[0m             \u001b[0mself\u001b[0m\u001b[0;34m.\u001b[0m\u001b[0m_reader\u001b[0m\u001b[0;34m.\u001b[0m\u001b[0mset_noconvert\u001b[0m\u001b[0;34m(\u001b[0m\u001b[0mx\u001b[0m\u001b[0;34m)\u001b[0m\u001b[0;34m\u001b[0m\u001b[0;34m\u001b[0m\u001b[0m\n",
      "\u001b[0;31mValueError\u001b[0m: 'Start Time' is not in list"
     ]
    }
   ],
   "source": [
    "fn.file_compressor(\n",
    "    startdir = 'data/citibike_data',\n",
    "    returndir = '../..',\n",
    "    parse_dates = ['Start Time','Stop Time'],\n",
    "    export = True,\n",
    "    name = 'five_yr_citibike.csv'\n",
    "                  )"
   ]
  },
  {
   "cell_type": "code",
   "execution_count": null,
   "metadata": {},
   "outputs": [],
   "source": []
  }
 ],
 "metadata": {
  "kernelspec": {
   "display_name": "Python 3",
   "language": "python",
   "name": "python3"
  },
  "language_info": {
   "codemirror_mode": {
    "name": "ipython",
    "version": 3
   },
   "file_extension": ".py",
   "mimetype": "text/x-python",
   "name": "python",
   "nbconvert_exporter": "python",
   "pygments_lexer": "ipython3",
   "version": "3.7.4"
  }
 },
 "nbformat": 4,
 "nbformat_minor": 2
}
